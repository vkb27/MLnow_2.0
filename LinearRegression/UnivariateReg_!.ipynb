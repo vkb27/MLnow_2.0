{
  "nbformat": 4,
  "nbformat_minor": 0,
  "metadata": {
    "colab": {
      "name": "UnivariateReg_!.ipynb",
      "provenance": [],
      "authorship_tag": "ABX9TyMxj6QmLO5XBhxtfqgt1oP8",
      "include_colab_link": true
    },
    "kernelspec": {
      "name": "python3",
      "display_name": "Python 3"
    },
    "language_info": {
      "name": "python"
    }
  },
  "cells": [
    {
      "cell_type": "markdown",
      "metadata": {
        "id": "view-in-github",
        "colab_type": "text"
      },
      "source": [
        "<a href=\"https://colab.research.google.com/github/vkb27/MLnow_2.0/blob/main/UnivariateReg_!.ipynb\" target=\"_parent\"><img src=\"https://colab.research.google.com/assets/colab-badge.svg\" alt=\"Open In Colab\"/></a>"
      ]
    },
    {
      "cell_type": "code",
      "metadata": {
        "id": "gfvvvW2HfvgK"
      },
      "source": [
        "from google.colab import drive"
      ],
      "execution_count": null,
      "outputs": []
    },
    {
      "cell_type": "code",
      "metadata": {
        "colab": {
          "base_uri": "https://localhost:8080/"
        },
        "id": "Hl024kaagUGb",
        "outputId": "ce2e7a09-2542-4862-8e4b-94ff4b5357ee"
      },
      "source": [
        "drive.mount('/content/drive')"
      ],
      "execution_count": null,
      "outputs": [
        {
          "output_type": "stream",
          "text": [
            "Mounted at /content/drive\n"
          ],
          "name": "stdout"
        }
      ]
    },
    {
      "cell_type": "code",
      "metadata": {
        "id": "cSkwkdiyf663"
      },
      "source": [
        "import pandas as pd\n",
        "import numpy as np\n",
        "import tensorflow as tf\n",
        "from tensorflow import keras\n",
        "import os"
      ],
      "execution_count": null,
      "outputs": []
    },
    {
      "cell_type": "code",
      "metadata": {
        "colab": {
          "base_uri": "https://localhost:8080/"
        },
        "id": "nmm0XovmgLnZ",
        "outputId": "57c0003b-50fe-45b8-fce1-c75a61e68ffe"
      },
      "source": [
        "cd '/content/drive/MyDrive/Coding/EDA/student'"
      ],
      "execution_count": null,
      "outputs": [
        {
          "output_type": "stream",
          "text": [
            "/content/drive/MyDrive/Coding/EDA/student\n"
          ],
          "name": "stdout"
        }
      ]
    },
    {
      "cell_type": "code",
      "metadata": {
        "id": "Zdjsc2Jahm8y"
      },
      "source": [
        "porData= pd.read_csv('student-por.csv', sep=';')"
      ],
      "execution_count": null,
      "outputs": []
    },
    {
      "cell_type": "code",
      "metadata": {
        "colab": {
          "base_uri": "https://localhost:8080/",
          "height": 377
        },
        "id": "rdF6Kkh7jKi-",
        "outputId": "3f6576ae-90d7-4e00-cad3-981d36498f5c"
      },
      "source": [
        "porData.head(10)"
      ],
      "execution_count": null,
      "outputs": [
        {
          "output_type": "execute_result",
          "data": {
            "text/html": [
              "<div>\n",
              "<style scoped>\n",
              "    .dataframe tbody tr th:only-of-type {\n",
              "        vertical-align: middle;\n",
              "    }\n",
              "\n",
              "    .dataframe tbody tr th {\n",
              "        vertical-align: top;\n",
              "    }\n",
              "\n",
              "    .dataframe thead th {\n",
              "        text-align: right;\n",
              "    }\n",
              "</style>\n",
              "<table border=\"1\" class=\"dataframe\">\n",
              "  <thead>\n",
              "    <tr style=\"text-align: right;\">\n",
              "      <th></th>\n",
              "      <th>school</th>\n",
              "      <th>sex</th>\n",
              "      <th>age</th>\n",
              "      <th>address</th>\n",
              "      <th>famsize</th>\n",
              "      <th>Pstatus</th>\n",
              "      <th>Medu</th>\n",
              "      <th>Fedu</th>\n",
              "      <th>Mjob</th>\n",
              "      <th>Fjob</th>\n",
              "      <th>reason</th>\n",
              "      <th>guardian</th>\n",
              "      <th>traveltime</th>\n",
              "      <th>studytime</th>\n",
              "      <th>failures</th>\n",
              "      <th>schoolsup</th>\n",
              "      <th>famsup</th>\n",
              "      <th>paid</th>\n",
              "      <th>activities</th>\n",
              "      <th>nursery</th>\n",
              "      <th>higher</th>\n",
              "      <th>internet</th>\n",
              "      <th>romantic</th>\n",
              "      <th>famrel</th>\n",
              "      <th>freetime</th>\n",
              "      <th>goout</th>\n",
              "      <th>Dalc</th>\n",
              "      <th>Walc</th>\n",
              "      <th>health</th>\n",
              "      <th>absences</th>\n",
              "      <th>G1</th>\n",
              "      <th>G2</th>\n",
              "      <th>G3</th>\n",
              "    </tr>\n",
              "  </thead>\n",
              "  <tbody>\n",
              "    <tr>\n",
              "      <th>0</th>\n",
              "      <td>GP</td>\n",
              "      <td>F</td>\n",
              "      <td>18</td>\n",
              "      <td>U</td>\n",
              "      <td>GT3</td>\n",
              "      <td>A</td>\n",
              "      <td>4</td>\n",
              "      <td>4</td>\n",
              "      <td>at_home</td>\n",
              "      <td>teacher</td>\n",
              "      <td>course</td>\n",
              "      <td>mother</td>\n",
              "      <td>2</td>\n",
              "      <td>2</td>\n",
              "      <td>0</td>\n",
              "      <td>yes</td>\n",
              "      <td>no</td>\n",
              "      <td>no</td>\n",
              "      <td>no</td>\n",
              "      <td>yes</td>\n",
              "      <td>yes</td>\n",
              "      <td>no</td>\n",
              "      <td>no</td>\n",
              "      <td>4</td>\n",
              "      <td>3</td>\n",
              "      <td>4</td>\n",
              "      <td>1</td>\n",
              "      <td>1</td>\n",
              "      <td>3</td>\n",
              "      <td>4</td>\n",
              "      <td>0</td>\n",
              "      <td>11</td>\n",
              "      <td>11</td>\n",
              "    </tr>\n",
              "    <tr>\n",
              "      <th>1</th>\n",
              "      <td>GP</td>\n",
              "      <td>F</td>\n",
              "      <td>17</td>\n",
              "      <td>U</td>\n",
              "      <td>GT3</td>\n",
              "      <td>T</td>\n",
              "      <td>1</td>\n",
              "      <td>1</td>\n",
              "      <td>at_home</td>\n",
              "      <td>other</td>\n",
              "      <td>course</td>\n",
              "      <td>father</td>\n",
              "      <td>1</td>\n",
              "      <td>2</td>\n",
              "      <td>0</td>\n",
              "      <td>no</td>\n",
              "      <td>yes</td>\n",
              "      <td>no</td>\n",
              "      <td>no</td>\n",
              "      <td>no</td>\n",
              "      <td>yes</td>\n",
              "      <td>yes</td>\n",
              "      <td>no</td>\n",
              "      <td>5</td>\n",
              "      <td>3</td>\n",
              "      <td>3</td>\n",
              "      <td>1</td>\n",
              "      <td>1</td>\n",
              "      <td>3</td>\n",
              "      <td>2</td>\n",
              "      <td>9</td>\n",
              "      <td>11</td>\n",
              "      <td>11</td>\n",
              "    </tr>\n",
              "    <tr>\n",
              "      <th>2</th>\n",
              "      <td>GP</td>\n",
              "      <td>F</td>\n",
              "      <td>15</td>\n",
              "      <td>U</td>\n",
              "      <td>LE3</td>\n",
              "      <td>T</td>\n",
              "      <td>1</td>\n",
              "      <td>1</td>\n",
              "      <td>at_home</td>\n",
              "      <td>other</td>\n",
              "      <td>other</td>\n",
              "      <td>mother</td>\n",
              "      <td>1</td>\n",
              "      <td>2</td>\n",
              "      <td>0</td>\n",
              "      <td>yes</td>\n",
              "      <td>no</td>\n",
              "      <td>no</td>\n",
              "      <td>no</td>\n",
              "      <td>yes</td>\n",
              "      <td>yes</td>\n",
              "      <td>yes</td>\n",
              "      <td>no</td>\n",
              "      <td>4</td>\n",
              "      <td>3</td>\n",
              "      <td>2</td>\n",
              "      <td>2</td>\n",
              "      <td>3</td>\n",
              "      <td>3</td>\n",
              "      <td>6</td>\n",
              "      <td>12</td>\n",
              "      <td>13</td>\n",
              "      <td>12</td>\n",
              "    </tr>\n",
              "    <tr>\n",
              "      <th>3</th>\n",
              "      <td>GP</td>\n",
              "      <td>F</td>\n",
              "      <td>15</td>\n",
              "      <td>U</td>\n",
              "      <td>GT3</td>\n",
              "      <td>T</td>\n",
              "      <td>4</td>\n",
              "      <td>2</td>\n",
              "      <td>health</td>\n",
              "      <td>services</td>\n",
              "      <td>home</td>\n",
              "      <td>mother</td>\n",
              "      <td>1</td>\n",
              "      <td>3</td>\n",
              "      <td>0</td>\n",
              "      <td>no</td>\n",
              "      <td>yes</td>\n",
              "      <td>no</td>\n",
              "      <td>yes</td>\n",
              "      <td>yes</td>\n",
              "      <td>yes</td>\n",
              "      <td>yes</td>\n",
              "      <td>yes</td>\n",
              "      <td>3</td>\n",
              "      <td>2</td>\n",
              "      <td>2</td>\n",
              "      <td>1</td>\n",
              "      <td>1</td>\n",
              "      <td>5</td>\n",
              "      <td>0</td>\n",
              "      <td>14</td>\n",
              "      <td>14</td>\n",
              "      <td>14</td>\n",
              "    </tr>\n",
              "    <tr>\n",
              "      <th>4</th>\n",
              "      <td>GP</td>\n",
              "      <td>F</td>\n",
              "      <td>16</td>\n",
              "      <td>U</td>\n",
              "      <td>GT3</td>\n",
              "      <td>T</td>\n",
              "      <td>3</td>\n",
              "      <td>3</td>\n",
              "      <td>other</td>\n",
              "      <td>other</td>\n",
              "      <td>home</td>\n",
              "      <td>father</td>\n",
              "      <td>1</td>\n",
              "      <td>2</td>\n",
              "      <td>0</td>\n",
              "      <td>no</td>\n",
              "      <td>yes</td>\n",
              "      <td>no</td>\n",
              "      <td>no</td>\n",
              "      <td>yes</td>\n",
              "      <td>yes</td>\n",
              "      <td>no</td>\n",
              "      <td>no</td>\n",
              "      <td>4</td>\n",
              "      <td>3</td>\n",
              "      <td>2</td>\n",
              "      <td>1</td>\n",
              "      <td>2</td>\n",
              "      <td>5</td>\n",
              "      <td>0</td>\n",
              "      <td>11</td>\n",
              "      <td>13</td>\n",
              "      <td>13</td>\n",
              "    </tr>\n",
              "    <tr>\n",
              "      <th>5</th>\n",
              "      <td>GP</td>\n",
              "      <td>M</td>\n",
              "      <td>16</td>\n",
              "      <td>U</td>\n",
              "      <td>LE3</td>\n",
              "      <td>T</td>\n",
              "      <td>4</td>\n",
              "      <td>3</td>\n",
              "      <td>services</td>\n",
              "      <td>other</td>\n",
              "      <td>reputation</td>\n",
              "      <td>mother</td>\n",
              "      <td>1</td>\n",
              "      <td>2</td>\n",
              "      <td>0</td>\n",
              "      <td>no</td>\n",
              "      <td>yes</td>\n",
              "      <td>no</td>\n",
              "      <td>yes</td>\n",
              "      <td>yes</td>\n",
              "      <td>yes</td>\n",
              "      <td>yes</td>\n",
              "      <td>no</td>\n",
              "      <td>5</td>\n",
              "      <td>4</td>\n",
              "      <td>2</td>\n",
              "      <td>1</td>\n",
              "      <td>2</td>\n",
              "      <td>5</td>\n",
              "      <td>6</td>\n",
              "      <td>12</td>\n",
              "      <td>12</td>\n",
              "      <td>13</td>\n",
              "    </tr>\n",
              "    <tr>\n",
              "      <th>6</th>\n",
              "      <td>GP</td>\n",
              "      <td>M</td>\n",
              "      <td>16</td>\n",
              "      <td>U</td>\n",
              "      <td>LE3</td>\n",
              "      <td>T</td>\n",
              "      <td>2</td>\n",
              "      <td>2</td>\n",
              "      <td>other</td>\n",
              "      <td>other</td>\n",
              "      <td>home</td>\n",
              "      <td>mother</td>\n",
              "      <td>1</td>\n",
              "      <td>2</td>\n",
              "      <td>0</td>\n",
              "      <td>no</td>\n",
              "      <td>no</td>\n",
              "      <td>no</td>\n",
              "      <td>no</td>\n",
              "      <td>yes</td>\n",
              "      <td>yes</td>\n",
              "      <td>yes</td>\n",
              "      <td>no</td>\n",
              "      <td>4</td>\n",
              "      <td>4</td>\n",
              "      <td>4</td>\n",
              "      <td>1</td>\n",
              "      <td>1</td>\n",
              "      <td>3</td>\n",
              "      <td>0</td>\n",
              "      <td>13</td>\n",
              "      <td>12</td>\n",
              "      <td>13</td>\n",
              "    </tr>\n",
              "    <tr>\n",
              "      <th>7</th>\n",
              "      <td>GP</td>\n",
              "      <td>F</td>\n",
              "      <td>17</td>\n",
              "      <td>U</td>\n",
              "      <td>GT3</td>\n",
              "      <td>A</td>\n",
              "      <td>4</td>\n",
              "      <td>4</td>\n",
              "      <td>other</td>\n",
              "      <td>teacher</td>\n",
              "      <td>home</td>\n",
              "      <td>mother</td>\n",
              "      <td>2</td>\n",
              "      <td>2</td>\n",
              "      <td>0</td>\n",
              "      <td>yes</td>\n",
              "      <td>yes</td>\n",
              "      <td>no</td>\n",
              "      <td>no</td>\n",
              "      <td>yes</td>\n",
              "      <td>yes</td>\n",
              "      <td>no</td>\n",
              "      <td>no</td>\n",
              "      <td>4</td>\n",
              "      <td>1</td>\n",
              "      <td>4</td>\n",
              "      <td>1</td>\n",
              "      <td>1</td>\n",
              "      <td>1</td>\n",
              "      <td>2</td>\n",
              "      <td>10</td>\n",
              "      <td>13</td>\n",
              "      <td>13</td>\n",
              "    </tr>\n",
              "    <tr>\n",
              "      <th>8</th>\n",
              "      <td>GP</td>\n",
              "      <td>M</td>\n",
              "      <td>15</td>\n",
              "      <td>U</td>\n",
              "      <td>LE3</td>\n",
              "      <td>A</td>\n",
              "      <td>3</td>\n",
              "      <td>2</td>\n",
              "      <td>services</td>\n",
              "      <td>other</td>\n",
              "      <td>home</td>\n",
              "      <td>mother</td>\n",
              "      <td>1</td>\n",
              "      <td>2</td>\n",
              "      <td>0</td>\n",
              "      <td>no</td>\n",
              "      <td>yes</td>\n",
              "      <td>no</td>\n",
              "      <td>no</td>\n",
              "      <td>yes</td>\n",
              "      <td>yes</td>\n",
              "      <td>yes</td>\n",
              "      <td>no</td>\n",
              "      <td>4</td>\n",
              "      <td>2</td>\n",
              "      <td>2</td>\n",
              "      <td>1</td>\n",
              "      <td>1</td>\n",
              "      <td>1</td>\n",
              "      <td>0</td>\n",
              "      <td>15</td>\n",
              "      <td>16</td>\n",
              "      <td>17</td>\n",
              "    </tr>\n",
              "    <tr>\n",
              "      <th>9</th>\n",
              "      <td>GP</td>\n",
              "      <td>M</td>\n",
              "      <td>15</td>\n",
              "      <td>U</td>\n",
              "      <td>GT3</td>\n",
              "      <td>T</td>\n",
              "      <td>3</td>\n",
              "      <td>4</td>\n",
              "      <td>other</td>\n",
              "      <td>other</td>\n",
              "      <td>home</td>\n",
              "      <td>mother</td>\n",
              "      <td>1</td>\n",
              "      <td>2</td>\n",
              "      <td>0</td>\n",
              "      <td>no</td>\n",
              "      <td>yes</td>\n",
              "      <td>no</td>\n",
              "      <td>yes</td>\n",
              "      <td>yes</td>\n",
              "      <td>yes</td>\n",
              "      <td>yes</td>\n",
              "      <td>no</td>\n",
              "      <td>5</td>\n",
              "      <td>5</td>\n",
              "      <td>1</td>\n",
              "      <td>1</td>\n",
              "      <td>1</td>\n",
              "      <td>5</td>\n",
              "      <td>0</td>\n",
              "      <td>12</td>\n",
              "      <td>12</td>\n",
              "      <td>13</td>\n",
              "    </tr>\n",
              "  </tbody>\n",
              "</table>\n",
              "</div>"
            ],
            "text/plain": [
              "  school sex  age address famsize Pstatus  ...  Walc  health absences  G1  G2  G3\n",
              "0     GP   F   18       U     GT3       A  ...     1       3        4   0  11  11\n",
              "1     GP   F   17       U     GT3       T  ...     1       3        2   9  11  11\n",
              "2     GP   F   15       U     LE3       T  ...     3       3        6  12  13  12\n",
              "3     GP   F   15       U     GT3       T  ...     1       5        0  14  14  14\n",
              "4     GP   F   16       U     GT3       T  ...     2       5        0  11  13  13\n",
              "5     GP   M   16       U     LE3       T  ...     2       5        6  12  12  13\n",
              "6     GP   M   16       U     LE3       T  ...     1       3        0  13  12  13\n",
              "7     GP   F   17       U     GT3       A  ...     1       1        2  10  13  13\n",
              "8     GP   M   15       U     LE3       A  ...     1       1        0  15  16  17\n",
              "9     GP   M   15       U     GT3       T  ...     1       5        0  12  12  13\n",
              "\n",
              "[10 rows x 33 columns]"
            ]
          },
          "metadata": {
            "tags": []
          },
          "execution_count": 6
        }
      ]
    },
    {
      "cell_type": "code",
      "metadata": {
        "colab": {
          "base_uri": "https://localhost:8080/",
          "height": 1000
        },
        "id": "F6UZYLuvkT1W",
        "outputId": "14ace414-583f-40a5-b9dd-48bb664a4edf"
      },
      "source": [
        "import matplotlib.pyplot as plt\n",
        "import seaborn as sns\n",
        "sns.pairplot(porData,\n",
        "             y_vars = [ 'G3', 'freetime', 'studytime', 'absences'],\n",
        "             x_vars = ['G1', 'G2','G3'],diag_kind='kde', hue='G3',\n",
        ")"
      ],
      "execution_count": null,
      "outputs": [
        {
          "output_type": "stream",
          "text": [
            "/usr/local/lib/python3.7/dist-packages/seaborn/distributions.py:306: UserWarning: Dataset has 0 variance; skipping density estimate.\n",
            "  warnings.warn(msg, UserWarning)\n",
            "/usr/local/lib/python3.7/dist-packages/seaborn/distributions.py:306: UserWarning: Dataset has 0 variance; skipping density estimate.\n",
            "  warnings.warn(msg, UserWarning)\n",
            "/usr/local/lib/python3.7/dist-packages/seaborn/distributions.py:306: UserWarning: Dataset has 0 variance; skipping density estimate.\n",
            "  warnings.warn(msg, UserWarning)\n",
            "/usr/local/lib/python3.7/dist-packages/seaborn/distributions.py:306: UserWarning: Dataset has 0 variance; skipping density estimate.\n",
            "  warnings.warn(msg, UserWarning)\n",
            "/usr/local/lib/python3.7/dist-packages/seaborn/distributions.py:306: UserWarning: Dataset has 0 variance; skipping density estimate.\n",
            "  warnings.warn(msg, UserWarning)\n",
            "/usr/local/lib/python3.7/dist-packages/seaborn/distributions.py:306: UserWarning: Dataset has 0 variance; skipping density estimate.\n",
            "  warnings.warn(msg, UserWarning)\n",
            "/usr/local/lib/python3.7/dist-packages/seaborn/distributions.py:306: UserWarning: Dataset has 0 variance; skipping density estimate.\n",
            "  warnings.warn(msg, UserWarning)\n",
            "/usr/local/lib/python3.7/dist-packages/seaborn/distributions.py:306: UserWarning: Dataset has 0 variance; skipping density estimate.\n",
            "  warnings.warn(msg, UserWarning)\n",
            "/usr/local/lib/python3.7/dist-packages/seaborn/distributions.py:306: UserWarning: Dataset has 0 variance; skipping density estimate.\n",
            "  warnings.warn(msg, UserWarning)\n",
            "/usr/local/lib/python3.7/dist-packages/seaborn/distributions.py:306: UserWarning: Dataset has 0 variance; skipping density estimate.\n",
            "  warnings.warn(msg, UserWarning)\n",
            "/usr/local/lib/python3.7/dist-packages/seaborn/distributions.py:306: UserWarning: Dataset has 0 variance; skipping density estimate.\n",
            "  warnings.warn(msg, UserWarning)\n",
            "/usr/local/lib/python3.7/dist-packages/seaborn/distributions.py:306: UserWarning: Dataset has 0 variance; skipping density estimate.\n",
            "  warnings.warn(msg, UserWarning)\n",
            "/usr/local/lib/python3.7/dist-packages/seaborn/distributions.py:306: UserWarning: Dataset has 0 variance; skipping density estimate.\n",
            "  warnings.warn(msg, UserWarning)\n",
            "/usr/local/lib/python3.7/dist-packages/seaborn/distributions.py:306: UserWarning: Dataset has 0 variance; skipping density estimate.\n",
            "  warnings.warn(msg, UserWarning)\n",
            "/usr/local/lib/python3.7/dist-packages/seaborn/distributions.py:306: UserWarning: Dataset has 0 variance; skipping density estimate.\n",
            "  warnings.warn(msg, UserWarning)\n",
            "/usr/local/lib/python3.7/dist-packages/seaborn/distributions.py:306: UserWarning: Dataset has 0 variance; skipping density estimate.\n",
            "  warnings.warn(msg, UserWarning)\n",
            "/usr/local/lib/python3.7/dist-packages/seaborn/distributions.py:306: UserWarning: Dataset has 0 variance; skipping density estimate.\n",
            "  warnings.warn(msg, UserWarning)\n"
          ],
          "name": "stderr"
        },
        {
          "output_type": "execute_result",
          "data": {
            "text/plain": [
              "<seaborn.axisgrid.PairGrid at 0x7fe76ee58cd0>"
            ]
          },
          "metadata": {
            "tags": []
          },
          "execution_count": 7
        },
        {
          "output_type": "display_data",
          "data": {
            "image/png": "[encoded data removed]",
            "text/plain": [
              "<Figure size 588.75x720 with 13 Axes>"
            ]
          },
          "metadata": {
            "tags": [],
            "needs_background": "light"
          }
        }
      ]
    },
    {
      "cell_type": "markdown",
      "metadata": {
        "id": "QYJ3d6NFjwCd"
      },
      "source": [
        "For univariate regression choosing two parameters G1 and G3 \n",
        "(acc. to graph the target attribute G3 has a strong correlation with attributes G2 and G1)\n",
        "\n",
        "\n",
        "---\n",
        "\n",
        "$G3_i = G1_i  \\cdot \\theta_1 + \\theta_0$"
      ]
    },
    {
      "cell_type": "code",
      "metadata": {
        "colab": {
          "base_uri": "https://localhost:8080/",
          "height": 203
        },
        "id": "9ur2IF7EjRQl",
        "outputId": "5926568f-c0d1-4fe9-bd41-fa11d9a72102"
      },
      "source": [
        "uniporData = porData[['G1','G3']]\n",
        "uniporData.head()"
      ],
      "execution_count": null,
      "outputs": [
        {
          "output_type": "execute_result",
          "data": {
            "text/html": [
              "<div>\n",
              "<style scoped>\n",
              "    .dataframe tbody tr th:only-of-type {\n",
              "        vertical-align: middle;\n",
              "    }\n",
              "\n",
              "    .dataframe tbody tr th {\n",
              "        vertical-align: top;\n",
              "    }\n",
              "\n",
              "    .dataframe thead th {\n",
              "        text-align: right;\n",
              "    }\n",
              "</style>\n",
              "<table border=\"1\" class=\"dataframe\">\n",
              "  <thead>\n",
              "    <tr style=\"text-align: right;\">\n",
              "      <th></th>\n",
              "      <th>G1</th>\n",
              "      <th>G3</th>\n",
              "    </tr>\n",
              "  </thead>\n",
              "  <tbody>\n",
              "    <tr>\n",
              "      <th>0</th>\n",
              "      <td>0</td>\n",
              "      <td>11</td>\n",
              "    </tr>\n",
              "    <tr>\n",
              "      <th>1</th>\n",
              "      <td>9</td>\n",
              "      <td>11</td>\n",
              "    </tr>\n",
              "    <tr>\n",
              "      <th>2</th>\n",
              "      <td>12</td>\n",
              "      <td>12</td>\n",
              "    </tr>\n",
              "    <tr>\n",
              "      <th>3</th>\n",
              "      <td>14</td>\n",
              "      <td>14</td>\n",
              "    </tr>\n",
              "    <tr>\n",
              "      <th>4</th>\n",
              "      <td>11</td>\n",
              "      <td>13</td>\n",
              "    </tr>\n",
              "  </tbody>\n",
              "</table>\n",
              "</div>"
            ],
            "text/plain": [
              "   G1  G3\n",
              "0   0  11\n",
              "1   9  11\n",
              "2  12  12\n",
              "3  14  14\n",
              "4  11  13"
            ]
          },
          "metadata": {
            "tags": []
          },
          "execution_count": 8
        }
      ]
    },
    {
      "cell_type": "code",
      "metadata": {
        "id": "YOCndJhgkHum"
      },
      "source": [
        "uniporData.to_csv('PorData_2.csv')"
      ],
      "execution_count": null,
      "outputs": []
    },
    {
      "cell_type": "code",
      "metadata": {
        "colab": {
          "base_uri": "https://localhost:8080/",
          "height": 391
        },
        "id": "mGrZq8Ngrdzf",
        "outputId": "e39eeac7-8ea6-4237-e893-4651d510ef4b"
      },
      "source": [
        "sns.pairplot(uniporData,\n",
        "             x_vars = ['G1', 'G3'],\n",
        "             y_vars =  ['G1', 'G3'],diag_kind='kde')"
      ],
      "execution_count": null,
      "outputs": [
        {
          "output_type": "execute_result",
          "data": {
            "text/plain": [
              "<seaborn.axisgrid.PairGrid at 0x7fe7bdf9f110>"
            ]
          },
          "metadata": {
            "tags": []
          },
          "execution_count": 10
        },
        {
          "output_type": "display_data",
          "data": {
            "image/png": "[encoded data removed]",
            "text/plain": [
              "<Figure size 360x360 with 6 Axes>"
            ]
          },
          "metadata": {
            "tags": [],
            "needs_background": "light"
          }
        }
      ]
    },
    {
      "cell_type": "markdown",
      "metadata": {
        "id": "NyKm9d1XsIOP"
      },
      "source": [
        "Splitting Data"
      ]
    },
    {
      "cell_type": "code",
      "metadata": {
        "colab": {
          "base_uri": "https://localhost:8080/"
        },
        "id": "1Syzaw5krlKW",
        "outputId": "b347a643-22ea-4119-a379-da61ab9df10b"
      },
      "source": [
        "# 80-20 train-test percent split\n",
        "\n",
        "trainDataset = uniporData.sample(frac=0.8, random_state=0) \n",
        "testDataset = uniporData.drop(trainDataset.index)\n",
        "\n",
        "print(trainDataset.head(),'\\n')\n",
        "print(trainDataset.shape,'\\n')\n",
        "\n",
        "print(testDataset.head(),'\\n')\n",
        "print(testDataset.shape)"
      ],
      "execution_count": null,
      "outputs": [
        {
          "output_type": "stream",
          "text": [
            "     G1  G3\n",
            "532   9   8\n",
            "375  14  15\n",
            "306  15  16\n",
            "625  10  10\n",
            "480   9  10 \n",
            "\n",
            "(519, 2) \n",
            "\n",
            "    G1  G3\n",
            "9   12  13\n",
            "11  10  13\n",
            "19  12  12\n",
            "23  10  10\n",
            "25  10  12 \n",
            "\n",
            "(130, 2)\n"
          ],
          "name": "stdout"
        }
      ]
    },
    {
      "cell_type": "code",
      "metadata": {
        "colab": {
          "base_uri": "https://localhost:8080/"
        },
        "id": "NTzTTwI-scLe",
        "outputId": "a4ee835a-fffa-4322-aaa3-f5d336653bf3"
      },
      "source": [
        "trainFeatures = trainDataset.copy()\n",
        "testFeatures = testDataset.copy()\n",
        "\n",
        "# training & testing feature will be G1\n",
        "# And the labels variable will be G3\n",
        "trainLabels = trainFeatures.pop('G3')\n",
        "testLabels = testFeatures.pop('G3')\n",
        "\n",
        "print(trainLabels.head())\n",
        "print(testLabels.head())"
      ],
      "execution_count": null,
      "outputs": [
        {
          "output_type": "stream",
          "text": [
            "532     8\n",
            "375    15\n",
            "306    16\n",
            "625    10\n",
            "480    10\n",
            "Name: G3, dtype: int64\n",
            "9     13\n",
            "11    13\n",
            "19    12\n",
            "23    10\n",
            "25    12\n",
            "Name: G3, dtype: int64\n"
          ],
          "name": "stdout"
        }
      ]
    },
    {
      "cell_type": "code",
      "metadata": {
        "colab": {
          "base_uri": "https://localhost:8080/"
        },
        "id": "lpxwwuU1tFhv",
        "outputId": "ad05acd0-5e41-4b00-9342-c3f3ce6e725d"
      },
      "source": [
        "print(trainFeatures.head())\n",
        "print(testFeatures.head())"
      ],
      "execution_count": null,
      "outputs": [
        {
          "output_type": "stream",
          "text": [
            "     G1\n",
            "532   9\n",
            "375  14\n",
            "306  15\n",
            "625  10\n",
            "480   9\n",
            "    G1\n",
            "9   12\n",
            "11  10\n",
            "19  12\n",
            "23  10\n",
            "25  10\n"
          ],
          "name": "stdout"
        }
      ]
    },
    {
      "cell_type": "code",
      "metadata": {
        "id": "XaFtHM9FtKt9"
      },
      "source": [
        "model = tf.keras.Sequential([ tf.keras.layers.Dense(1) ])"
      ],
      "execution_count": null,
      "outputs": []
    },
    {
      "cell_type": "code",
      "metadata": {
        "id": "iaS0SoPGuCL9"
      },
      "source": [
        "model.compile(\n",
        "    loss = 'mean_absolute_error',\n",
        "    optimizer = tf.keras.optimizers.Adam(0.001), # α = 0.001\n",
        "    metrics = ['mae', 'mse'] #meanSquare and meanAbsolute error metrics\n",
        ")"
      ],
      "execution_count": null,
      "outputs": []
    },
    {
      "cell_type": "code",
      "metadata": {
        "colab": {
          "base_uri": "https://localhost:8080/"
        },
        "id": "inO5Y1XpvK7_",
        "outputId": "827339f8-c2e6-4d88-ccea-68cc6ba52df0"
      },
      "source": [
        "numEpochs = 300\n",
        "history = model.fit(x = trainFeatures, y = trainLabels, validation_data = (testFeatures, testLabels), epochs = numEpochs)"
      ],
      "execution_count": null,
      "outputs": [
        {
          "output_type": "stream",
          "text": [
            "Epoch 1/300\n",
            "17/17 [==============================] - 1s 13ms/step - loss: 30.7406 - mae: 30.7406 - mse: 1003.4716 - val_loss: 31.3830 - val_mae: 31.3830 - val_mse: 1028.6655\n",
            "Epoch 2/300\n",
            "17/17 [==============================] - 0s 2ms/step - loss: 30.5305 - mae: 30.5305 - mse: 989.8964 - val_loss: 31.1684 - val_mae: 31.1684 - val_mse: 1014.7096\n",
            "Epoch 3/300\n",
            "17/17 [==============================] - 0s 3ms/step - loss: 30.3217 - mae: 30.3217 - mse: 976.5249 - val_loss: 30.9545 - val_mae: 30.9545 - val_mse: 1000.8940\n",
            "Epoch 4/300\n",
            "17/17 [==============================] - 0s 3ms/step - loss: 30.1123 - mae: 30.1123 - mse: 963.1588 - val_loss: 30.7413 - val_mae: 30.7413 - val_mse: 987.2237\n",
            "Epoch 5/300\n",
            "17/17 [==============================] - 0s 3ms/step - loss: 29.9032 - mae: 29.9032 - mse: 949.9304 - val_loss: 30.5272 - val_mae: 30.5272 - val_mse: 973.5862\n",
            "Epoch 6/300\n",
            "17/17 [==============================] - 0s 3ms/step - loss: 29.6936 - mae: 29.6936 - mse: 936.7299 - val_loss: 30.3131 - val_mae: 30.3131 - val_mse: 960.0461\n",
            "Epoch 7/300\n",
            "17/17 [==============================] - 0s 3ms/step - loss: 29.4842 - mae: 29.4842 - mse: 923.6791 - val_loss: 30.0989 - val_mae: 30.0989 - val_mse: 946.5962\n",
            "Epoch 8/300\n",
            "17/17 [==============================] - 0s 4ms/step - loss: 29.2741 - mae: 29.2741 - mse: 910.5989 - val_loss: 29.8855 - val_mae: 29.8855 - val_mse: 933.2892\n",
            "Epoch 9/300\n",
            "17/17 [==============================] - 0s 2ms/step - loss: 29.0652 - mae: 29.0652 - mse: 897.7812 - val_loss: 29.6710 - val_mae: 29.6710 - val_mse: 920.0093\n",
            "Epoch 10/300\n",
            "17/17 [==============================] - 0s 2ms/step - loss: 28.8557 - mae: 28.8557 - mse: 884.8997 - val_loss: 29.4581 - val_mae: 29.4581 - val_mse: 906.9205\n",
            "Epoch 11/300\n",
            "17/17 [==============================] - 0s 3ms/step - loss: 28.6468 - mae: 28.6468 - mse: 872.2554 - val_loss: 29.2435 - val_mae: 29.2435 - val_mse: 893.8273\n",
            "Epoch 12/300\n",
            "17/17 [==============================] - 0s 3ms/step - loss: 28.4368 - mae: 28.4368 - mse: 859.6414 - val_loss: 29.0285 - val_mae: 29.0285 - val_mse: 880.8020\n",
            "Epoch 13/300\n",
            "17/17 [==============================] - 0s 3ms/step - loss: 28.2273 - mae: 28.2273 - mse: 847.0726 - val_loss: 28.8157 - val_mae: 28.8157 - val_mse: 868.0012\n",
            "Epoch 14/300\n",
            "17/17 [==============================] - 0s 3ms/step - loss: 28.0191 - mae: 28.0191 - mse: 834.7562 - val_loss: 28.6014 - val_mae: 28.6014 - val_mse: 855.2143\n",
            "Epoch 15/300\n",
            "17/17 [==============================] - 0s 4ms/step - loss: 27.8083 - mae: 27.8083 - mse: 822.3546 - val_loss: 28.3857 - val_mae: 28.3857 - val_mse: 842.4316\n",
            "Epoch 16/300\n",
            "17/17 [==============================] - 0s 4ms/step - loss: 27.5973 - mae: 27.5973 - mse: 809.9778 - val_loss: 28.1708 - val_mae: 28.1708 - val_mse: 829.7968\n",
            "Epoch 17/300\n",
            "17/17 [==============================] - 0s 2ms/step - loss: 27.3876 - mae: 27.3876 - mse: 797.8619 - val_loss: 27.9562 - val_mae: 27.9562 - val_mse: 817.2711\n",
            "Epoch 18/300\n",
            "17/17 [==============================] - 0s 3ms/step - loss: 27.1771 - mae: 27.1771 - mse: 785.6860 - val_loss: 27.7416 - val_mae: 27.7416 - val_mse: 804.8438\n",
            "Epoch 19/300\n",
            "17/17 [==============================] - 0s 2ms/step - loss: 26.9676 - mae: 26.9676 - mse: 773.7680 - val_loss: 27.5272 - val_mae: 27.5272 - val_mse: 792.5209\n",
            "Epoch 20/300\n",
            "17/17 [==============================] - 0s 4ms/step - loss: 26.7582 - mae: 26.7582 - mse: 761.9174 - val_loss: 27.3125 - val_mae: 27.3125 - val_mse: 780.2794\n",
            "Epoch 21/300\n",
            "17/17 [==============================] - 0s 3ms/step - loss: 26.5479 - mae: 26.5479 - mse: 750.0466 - val_loss: 27.0984 - val_mae: 27.0984 - val_mse: 768.1677\n",
            "Epoch 22/300\n",
            "17/17 [==============================] - 0s 3ms/step - loss: 26.3384 - mae: 26.3384 - mse: 738.4308 - val_loss: 26.8827 - val_mae: 26.8827 - val_mse: 756.0566\n",
            "Epoch 23/300\n",
            "17/17 [==============================] - 0s 3ms/step - loss: 26.1285 - mae: 26.1285 - mse: 726.7788 - val_loss: 26.6692 - val_mae: 26.6692 - val_mse: 744.1682\n",
            "Epoch 24/300\n",
            "17/17 [==============================] - 0s 2ms/step - loss: 25.9187 - mae: 25.9187 - mse: 715.1844 - val_loss: 26.4560 - val_mae: 26.4560 - val_mse: 732.3915\n",
            "Epoch 25/300\n",
            "17/17 [==============================] - 0s 4ms/step - loss: 25.7104 - mae: 25.7104 - mse: 703.8618 - val_loss: 26.2423 - val_mae: 26.2423 - val_mse: 720.6817\n",
            "Epoch 26/300\n",
            "17/17 [==============================] - 0s 3ms/step - loss: 25.5002 - mae: 25.5002 - mse: 692.4431 - val_loss: 26.0286 - val_mae: 26.0286 - val_mse: 709.0627\n",
            "Epoch 27/300\n",
            "17/17 [==============================] - 0s 2ms/step - loss: 25.2906 - mae: 25.2906 - mse: 681.2168 - val_loss: 25.8139 - val_mae: 25.8139 - val_mse: 697.4906\n",
            "Epoch 28/300\n",
            "17/17 [==============================] - 0s 3ms/step - loss: 25.0822 - mae: 25.0822 - mse: 670.1765 - val_loss: 25.6002 - val_mae: 25.6002 - val_mse: 686.0612\n",
            "Epoch 29/300\n",
            "17/17 [==============================] - 0s 3ms/step - loss: 24.8724 - mae: 24.8724 - mse: 659.0679 - val_loss: 25.3877 - val_mae: 25.3877 - val_mse: 674.7930\n",
            "Epoch 30/300\n",
            "17/17 [==============================] - 0s 3ms/step - loss: 24.6640 - mae: 24.6640 - mse: 648.1714 - val_loss: 25.1733 - val_mae: 25.1733 - val_mse: 663.5193\n",
            "Epoch 31/300\n",
            "17/17 [==============================] - 0s 4ms/step - loss: 24.4540 - mae: 24.4540 - mse: 637.3040 - val_loss: 24.9589 - val_mae: 24.9589 - val_mse: 652.3428\n",
            "Epoch 32/300\n",
            "17/17 [==============================] - 0s 4ms/step - loss: 24.2448 - mae: 24.2448 - mse: 626.5692 - val_loss: 24.7445 - val_mae: 24.7445 - val_mse: 641.2579\n",
            "Epoch 33/300\n",
            "17/17 [==============================] - 0s 3ms/step - loss: 24.0343 - mae: 24.0343 - mse: 615.8148 - val_loss: 24.5303 - val_mae: 24.5303 - val_mse: 630.2793\n",
            "Epoch 34/300\n",
            "17/17 [==============================] - 0s 4ms/step - loss: 23.8244 - mae: 23.8244 - mse: 605.1832 - val_loss: 24.3152 - val_mae: 24.3152 - val_mse: 619.3525\n",
            "Epoch 35/300\n",
            "17/17 [==============================] - 0s 3ms/step - loss: 23.6146 - mae: 23.6146 - mse: 594.6808 - val_loss: 24.1013 - val_mae: 24.1013 - val_mse: 608.5806\n",
            "Epoch 36/300\n",
            "17/17 [==============================] - 0s 2ms/step - loss: 23.4056 - mae: 23.4056 - mse: 584.3684 - val_loss: 23.8859 - val_mae: 23.8859 - val_mse: 597.8281\n",
            "Epoch 37/300\n",
            "17/17 [==============================] - 0s 4ms/step - loss: 23.1953 - mae: 23.1953 - mse: 573.9968 - val_loss: 23.6722 - val_mae: 23.6722 - val_mse: 587.2543\n",
            "Epoch 38/300\n",
            "17/17 [==============================] - 0s 4ms/step - loss: 22.9856 - mae: 22.9856 - mse: 563.7893 - val_loss: 23.4575 - val_mae: 23.4575 - val_mse: 576.7272\n",
            "Epoch 39/300\n",
            "17/17 [==============================] - 0s 2ms/step - loss: 22.7758 - mae: 22.7758 - mse: 553.6147 - val_loss: 23.2440 - val_mae: 23.2440 - val_mse: 566.3536\n",
            "Epoch 40/300\n",
            "17/17 [==============================] - 0s 2ms/step - loss: 22.5662 - mae: 22.5662 - mse: 543.6028 - val_loss: 23.0292 - val_mae: 23.0292 - val_mse: 556.0137\n",
            "Epoch 41/300\n",
            "17/17 [==============================] - 0s 3ms/step - loss: 22.3564 - mae: 22.3564 - mse: 533.6590 - val_loss: 22.8137 - val_mae: 22.8137 - val_mse: 545.7356\n",
            "Epoch 42/300\n",
            "17/17 [==============================] - 0s 2ms/step - loss: 22.1459 - mae: 22.1459 - mse: 523.7769 - val_loss: 22.5990 - val_mae: 22.5990 - val_mse: 535.5945\n",
            "Epoch 43/300\n",
            "17/17 [==============================] - 0s 4ms/step - loss: 21.9360 - mae: 21.9360 - mse: 513.9932 - val_loss: 22.3847 - val_mae: 22.3847 - val_mse: 525.5632\n",
            "Epoch 44/300\n",
            "17/17 [==============================] - 0s 2ms/step - loss: 21.7254 - mae: 21.7254 - mse: 504.2532 - val_loss: 22.1702 - val_mae: 22.1702 - val_mse: 515.6208\n",
            "Epoch 45/300\n",
            "17/17 [==============================] - 0s 3ms/step - loss: 21.5160 - mae: 21.5160 - mse: 494.6881 - val_loss: 21.9563 - val_mae: 21.9563 - val_mse: 505.7982\n",
            "Epoch 46/300\n",
            "17/17 [==============================] - 0s 2ms/step - loss: 21.3063 - mae: 21.3063 - mse: 485.1936 - val_loss: 21.7426 - val_mae: 21.7426 - val_mse: 496.0831\n",
            "Epoch 47/300\n",
            "17/17 [==============================] - 0s 3ms/step - loss: 21.0975 - mae: 21.0975 - mse: 475.8445 - val_loss: 21.5284 - val_mae: 21.5284 - val_mse: 486.4380\n",
            "Epoch 48/300\n",
            "17/17 [==============================] - 0s 2ms/step - loss: 20.8879 - mae: 20.8879 - mse: 466.5028 - val_loss: 21.3156 - val_mae: 21.3156 - val_mse: 476.9512\n",
            "Epoch 49/300\n",
            "17/17 [==============================] - 0s 3ms/step - loss: 20.6794 - mae: 20.6794 - mse: 457.4169 - val_loss: 21.1015 - val_mae: 21.1015 - val_mse: 467.4998\n",
            "Epoch 50/300\n",
            "17/17 [==============================] - 0s 3ms/step - loss: 20.4705 - mae: 20.4705 - mse: 448.3521 - val_loss: 20.8874 - val_mae: 20.8874 - val_mse: 458.1442\n",
            "Epoch 51/300\n",
            "17/17 [==============================] - 0s 3ms/step - loss: 20.2613 - mae: 20.2613 - mse: 439.3450 - val_loss: 20.6740 - val_mae: 20.6740 - val_mse: 448.9157\n",
            "Epoch 52/300\n",
            "17/17 [==============================] - 0s 3ms/step - loss: 20.0513 - mae: 20.0513 - mse: 430.3726 - val_loss: 20.4597 - val_mae: 20.4597 - val_mse: 439.7435\n",
            "Epoch 53/300\n",
            "17/17 [==============================] - 0s 4ms/step - loss: 19.8415 - mae: 19.8415 - mse: 421.4823 - val_loss: 20.2456 - val_mae: 20.2456 - val_mse: 430.6706\n",
            "Epoch 54/300\n",
            "17/17 [==============================] - 0s 2ms/step - loss: 19.6324 - mae: 19.6324 - mse: 412.8133 - val_loss: 20.0314 - val_mae: 20.0314 - val_mse: 421.6917\n",
            "Epoch 55/300\n",
            "17/17 [==============================] - 0s 3ms/step - loss: 19.4233 - mae: 19.4233 - mse: 404.2029 - val_loss: 19.8174 - val_mae: 19.8174 - val_mse: 412.8153\n",
            "Epoch 56/300\n",
            "17/17 [==============================] - 0s 2ms/step - loss: 19.2133 - mae: 19.2133 - mse: 395.5791 - val_loss: 19.6039 - val_mae: 19.6039 - val_mse: 404.0556\n",
            "Epoch 57/300\n",
            "17/17 [==============================] - 0s 3ms/step - loss: 19.0042 - mae: 19.0042 - mse: 387.1612 - val_loss: 19.3890 - val_mae: 19.3890 - val_mse: 395.3324\n",
            "Epoch 58/300\n",
            "17/17 [==============================] - 0s 3ms/step - loss: 18.7946 - mae: 18.7946 - mse: 378.7766 - val_loss: 19.1752 - val_mae: 19.1752 - val_mse: 386.7493\n",
            "Epoch 59/300\n",
            "17/17 [==============================] - 0s 3ms/step - loss: 18.5853 - mae: 18.5853 - mse: 370.5205 - val_loss: 18.9609 - val_mae: 18.9609 - val_mse: 378.2400\n",
            "Epoch 60/300\n",
            "17/17 [==============================] - 0s 3ms/step - loss: 18.3758 - mae: 18.3758 - mse: 362.3201 - val_loss: 18.7481 - val_mae: 18.7481 - val_mse: 369.8860\n",
            "Epoch 61/300\n",
            "17/17 [==============================] - 0s 3ms/step - loss: 18.1669 - mae: 18.1669 - mse: 354.2447 - val_loss: 18.5351 - val_mae: 18.5351 - val_mse: 361.6185\n",
            "Epoch 62/300\n",
            "17/17 [==============================] - 0s 3ms/step - loss: 17.9583 - mae: 17.9583 - mse: 346.2709 - val_loss: 18.3209 - val_mae: 18.3209 - val_mse: 353.3997\n",
            "Epoch 63/300\n",
            "17/17 [==============================] - 0s 3ms/step - loss: 17.7484 - mae: 17.7484 - mse: 338.3649 - val_loss: 18.1064 - val_mae: 18.1064 - val_mse: 345.2625\n",
            "Epoch 64/300\n",
            "17/17 [==============================] - 0s 2ms/step - loss: 17.5377 - mae: 17.5377 - mse: 330.4787 - val_loss: 17.8917 - val_mae: 17.8917 - val_mse: 337.2163\n",
            "Epoch 65/300\n",
            "17/17 [==============================] - 0s 3ms/step - loss: 17.3283 - mae: 17.3283 - mse: 322.8217 - val_loss: 17.6749 - val_mae: 17.6749 - val_mse: 329.1855\n",
            "Epoch 66/300\n",
            "17/17 [==============================] - 0s 3ms/step - loss: 17.1162 - mae: 17.1162 - mse: 315.0687 - val_loss: 17.4601 - val_mae: 17.4601 - val_mse: 321.3252\n",
            "Epoch 67/300\n",
            "17/17 [==============================] - 0s 3ms/step - loss: 16.9066 - mae: 16.9066 - mse: 307.5279 - val_loss: 17.2457 - val_mae: 17.2457 - val_mse: 313.5760\n",
            "Epoch 68/300\n",
            "17/17 [==============================] - 0s 3ms/step - loss: 16.6965 - mae: 16.6965 - mse: 300.0407 - val_loss: 17.0312 - val_mae: 17.0312 - val_mse: 305.9210\n",
            "Epoch 69/300\n",
            "17/17 [==============================] - 0s 4ms/step - loss: 16.4875 - mae: 16.4875 - mse: 292.7443 - val_loss: 16.8168 - val_mae: 16.8168 - val_mse: 298.3606\n",
            "Epoch 70/300\n",
            "17/17 [==============================] - 0s 3ms/step - loss: 16.2779 - mae: 16.2779 - mse: 285.4529 - val_loss: 16.6048 - val_mae: 16.6048 - val_mse: 290.9806\n",
            "Epoch 71/300\n",
            "17/17 [==============================] - 0s 3ms/step - loss: 16.0691 - mae: 16.0691 - mse: 278.3002 - val_loss: 16.3898 - val_mae: 16.3898 - val_mse: 283.5924\n",
            "Epoch 72/300\n",
            "17/17 [==============================] - 0s 3ms/step - loss: 15.8585 - mae: 15.8585 - mse: 271.2206 - val_loss: 16.1743 - val_mae: 16.1743 - val_mse: 276.2813\n",
            "Epoch 73/300\n",
            "17/17 [==============================] - 0s 3ms/step - loss: 15.6487 - mae: 15.6487 - mse: 264.2153 - val_loss: 15.9605 - val_mae: 15.9605 - val_mse: 269.1245\n",
            "Epoch 74/300\n",
            "17/17 [==============================] - 0s 3ms/step - loss: 15.4392 - mae: 15.4392 - mse: 257.3109 - val_loss: 15.7465 - val_mae: 15.7465 - val_mse: 262.0541\n",
            "Epoch 75/300\n",
            "17/17 [==============================] - 0s 3ms/step - loss: 15.2300 - mae: 15.2300 - mse: 250.5165 - val_loss: 15.5331 - val_mae: 15.5331 - val_mse: 255.0993\n",
            "Epoch 76/300\n",
            "17/17 [==============================] - 0s 3ms/step - loss: 15.0204 - mae: 15.0204 - mse: 243.8382 - val_loss: 15.3181 - val_mae: 15.3181 - val_mse: 248.1869\n",
            "Epoch 77/300\n",
            "17/17 [==============================] - 0s 3ms/step - loss: 14.8107 - mae: 14.8107 - mse: 237.2263 - val_loss: 15.1034 - val_mae: 15.1034 - val_mse: 241.3817\n",
            "Epoch 78/300\n",
            "17/17 [==============================] - 0s 3ms/step - loss: 14.6007 - mae: 14.6007 - mse: 230.6688 - val_loss: 14.8900 - val_mae: 14.8900 - val_mse: 234.7119\n",
            "Epoch 79/300\n",
            "17/17 [==============================] - 0s 4ms/step - loss: 14.3916 - mae: 14.3916 - mse: 224.2601 - val_loss: 14.6754 - val_mae: 14.6754 - val_mse: 228.0978\n",
            "Epoch 80/300\n",
            "17/17 [==============================] - 0s 3ms/step - loss: 14.1827 - mae: 14.1827 - mse: 217.9826 - val_loss: 14.4611 - val_mae: 14.4611 - val_mse: 221.5899\n",
            "Epoch 81/300\n",
            "17/17 [==============================] - 0s 2ms/step - loss: 13.9736 - mae: 13.9736 - mse: 211.7297 - val_loss: 14.2485 - val_mae: 14.2485 - val_mse: 215.2278\n",
            "Epoch 82/300\n",
            "17/17 [==============================] - 0s 3ms/step - loss: 13.7661 - mae: 13.7661 - mse: 205.6127 - val_loss: 14.0355 - val_mae: 14.0355 - val_mse: 208.9484\n",
            "Epoch 83/300\n",
            "17/17 [==============================] - 0s 3ms/step - loss: 13.5586 - mae: 13.5586 - mse: 199.5956 - val_loss: 13.8249 - val_mae: 13.8249 - val_mse: 202.7949\n",
            "Epoch 84/300\n",
            "17/17 [==============================] - 0s 3ms/step - loss: 13.3518 - mae: 13.3518 - mse: 193.6644 - val_loss: 13.6146 - val_mae: 13.6146 - val_mse: 196.7334\n",
            "Epoch 85/300\n",
            "17/17 [==============================] - 0s 3ms/step - loss: 13.1451 - mae: 13.1451 - mse: 187.8033 - val_loss: 13.4039 - val_mae: 13.4039 - val_mse: 190.7549\n",
            "Epoch 86/300\n",
            "17/17 [==============================] - 0s 3ms/step - loss: 12.9369 - mae: 12.9369 - mse: 181.9987 - val_loss: 13.1915 - val_mae: 13.1915 - val_mse: 184.8227\n",
            "Epoch 87/300\n",
            "17/17 [==============================] - 0s 3ms/step - loss: 12.7295 - mae: 12.7295 - mse: 176.3330 - val_loss: 12.9791 - val_mae: 12.9791 - val_mse: 178.9881\n",
            "Epoch 88/300\n",
            "17/17 [==============================] - 0s 3ms/step - loss: 12.5251 - mae: 12.5251 - mse: 170.7777 - val_loss: 12.7694 - val_mae: 12.7694 - val_mse: 173.2981\n",
            "Epoch 89/300\n",
            "17/17 [==============================] - 0s 3ms/step - loss: 12.3231 - mae: 12.3231 - mse: 165.3658 - val_loss: 12.5637 - val_mae: 12.5637 - val_mse: 167.7647\n",
            "Epoch 90/300\n",
            "17/17 [==============================] - 0s 2ms/step - loss: 12.1237 - mae: 12.1237 - mse: 160.0445 - val_loss: 12.3584 - val_mae: 12.3584 - val_mse: 162.3352\n",
            "Epoch 91/300\n",
            "17/17 [==============================] - 0s 4ms/step - loss: 11.9265 - mae: 11.9265 - mse: 154.8908 - val_loss: 12.1517 - val_mae: 12.1517 - val_mse: 156.9577\n",
            "Epoch 92/300\n",
            "17/17 [==============================] - 0s 3ms/step - loss: 11.7279 - mae: 11.7279 - mse: 149.7571 - val_loss: 11.9494 - val_mae: 11.9494 - val_mse: 151.7865\n",
            "Epoch 93/300\n",
            "17/17 [==============================] - 0s 3ms/step - loss: 11.5326 - mae: 11.5326 - mse: 144.7656 - val_loss: 11.7470 - val_mae: 11.7470 - val_mse: 146.6997\n",
            "Epoch 94/300\n",
            "17/17 [==============================] - 0s 3ms/step - loss: 11.3375 - mae: 11.3375 - mse: 139.9335 - val_loss: 11.5415 - val_mae: 11.5415 - val_mse: 141.6242\n",
            "Epoch 95/300\n",
            "17/17 [==============================] - 0s 3ms/step - loss: 11.1385 - mae: 11.1385 - mse: 135.0386 - val_loss: 11.3384 - val_mae: 11.3384 - val_mse: 136.6998\n",
            "Epoch 96/300\n",
            "17/17 [==============================] - 0s 5ms/step - loss: 10.9428 - mae: 10.9428 - mse: 130.2642 - val_loss: 11.1315 - val_mae: 11.1315 - val_mse: 131.7731\n",
            "Epoch 97/300\n",
            "17/17 [==============================] - 0s 4ms/step - loss: 10.7445 - mae: 10.7445 - mse: 125.6184 - val_loss: 10.9268 - val_mae: 10.9268 - val_mse: 126.9894\n",
            "Epoch 98/300\n",
            "17/17 [==============================] - 0s 3ms/step - loss: 10.5481 - mae: 10.5481 - mse: 121.0182 - val_loss: 10.7216 - val_mae: 10.7216 - val_mse: 122.2835\n",
            "Epoch 99/300\n",
            "17/17 [==============================] - 0s 3ms/step - loss: 10.3527 - mae: 10.3527 - mse: 116.5490 - val_loss: 10.5179 - val_mae: 10.5179 - val_mse: 117.7021\n",
            "Epoch 100/300\n",
            "17/17 [==============================] - 0s 3ms/step - loss: 10.1556 - mae: 10.1556 - mse: 112.1412 - val_loss: 10.3135 - val_mae: 10.3135 - val_mse: 113.1961\n",
            "Epoch 101/300\n",
            "17/17 [==============================] - 0s 3ms/step - loss: 9.9602 - mae: 9.9602 - mse: 107.8540 - val_loss: 10.1083 - val_mae: 10.1083 - val_mse: 108.7606\n",
            "Epoch 102/300\n",
            "17/17 [==============================] - 0s 4ms/step - loss: 9.7628 - mae: 9.7628 - mse: 103.6249 - val_loss: 9.9029 - val_mae: 9.9029 - val_mse: 104.4139\n",
            "Epoch 103/300\n",
            "17/17 [==============================] - 0s 5ms/step - loss: 9.5662 - mae: 9.5662 - mse: 99.4881 - val_loss: 9.6992 - val_mae: 9.6992 - val_mse: 100.1924\n",
            "Epoch 104/300\n",
            "17/17 [==============================] - 0s 3ms/step - loss: 9.3692 - mae: 9.3692 - mse: 95.3922 - val_loss: 9.4957 - val_mae: 9.4957 - val_mse: 96.0642\n",
            "Epoch 105/300\n",
            "17/17 [==============================] - 0s 3ms/step - loss: 9.1736 - mae: 9.1736 - mse: 91.4783 - val_loss: 9.2926 - val_mae: 9.2926 - val_mse: 92.0316\n",
            "Epoch 106/300\n",
            "17/17 [==============================] - 0s 4ms/step - loss: 8.9792 - mae: 8.9792 - mse: 87.6474 - val_loss: 9.0889 - val_mae: 9.0889 - val_mse: 88.0776\n",
            "Epoch 107/300\n",
            "17/17 [==============================] - 0s 3ms/step - loss: 8.7828 - mae: 8.7828 - mse: 83.8321 - val_loss: 8.8837 - val_mae: 8.8837 - val_mse: 84.1836\n",
            "Epoch 108/300\n",
            "17/17 [==============================] - 0s 3ms/step - loss: 8.5859 - mae: 8.5859 - mse: 80.1215 - val_loss: 8.6789 - val_mae: 8.6789 - val_mse: 80.3888\n",
            "Epoch 109/300\n",
            "17/17 [==============================] - 0s 4ms/step - loss: 8.3898 - mae: 8.3898 - mse: 76.5452 - val_loss: 8.4745 - val_mae: 8.4745 - val_mse: 76.6910\n",
            "Epoch 110/300\n",
            "17/17 [==============================] - 0s 3ms/step - loss: 8.1924 - mae: 8.1924 - mse: 72.9990 - val_loss: 8.2697 - val_mae: 8.2697 - val_mse: 73.0751\n",
            "Epoch 111/300\n",
            "17/17 [==============================] - 0s 3ms/step - loss: 7.9957 - mae: 7.9957 - mse: 69.5303 - val_loss: 8.0639 - val_mae: 8.0639 - val_mse: 69.5342\n",
            "Epoch 112/300\n",
            "17/17 [==============================] - 0s 3ms/step - loss: 7.7974 - mae: 7.7974 - mse: 66.1644 - val_loss: 7.8562 - val_mae: 7.8562 - val_mse: 66.0518\n",
            "Epoch 113/300\n",
            "17/17 [==============================] - 0s 3ms/step - loss: 7.5978 - mae: 7.5978 - mse: 62.8599 - val_loss: 7.6518 - val_mae: 7.6518 - val_mse: 62.7160\n",
            "Epoch 114/300\n",
            "17/17 [==============================] - 0s 3ms/step - loss: 7.4023 - mae: 7.4023 - mse: 59.6935 - val_loss: 7.4441 - val_mae: 7.4441 - val_mse: 59.4179\n",
            "Epoch 115/300\n",
            "17/17 [==============================] - 0s 3ms/step - loss: 7.2031 - mae: 7.2031 - mse: 56.5712 - val_loss: 7.2388 - val_mae: 7.2388 - val_mse: 56.2495\n",
            "Epoch 116/300\n",
            "17/17 [==============================] - 0s 3ms/step - loss: 7.0046 - mae: 7.0046 - mse: 53.5363 - val_loss: 7.0313 - val_mae: 7.0313 - val_mse: 53.1390\n",
            "Epoch 117/300\n",
            "17/17 [==============================] - 0s 3ms/step - loss: 6.8062 - mae: 6.8062 - mse: 50.5867 - val_loss: 6.8241 - val_mae: 6.8241 - val_mse: 50.1251\n",
            "Epoch 118/300\n",
            "17/17 [==============================] - 0s 3ms/step - loss: 6.6063 - mae: 6.6063 - mse: 47.7188 - val_loss: 6.6185 - val_mae: 6.6185 - val_mse: 47.2270\n",
            "Epoch 119/300\n",
            "17/17 [==============================] - 0s 3ms/step - loss: 6.4087 - mae: 6.4087 - mse: 44.9817 - val_loss: 6.4107 - val_mae: 6.4107 - val_mse: 44.3899\n",
            "Epoch 120/300\n",
            "17/17 [==============================] - 0s 3ms/step - loss: 6.2096 - mae: 6.2096 - mse: 42.2986 - val_loss: 6.2047 - val_mae: 6.2047 - val_mse: 41.6682\n",
            "Epoch 121/300\n",
            "17/17 [==============================] - 0s 3ms/step - loss: 6.0128 - mae: 6.0128 - mse: 39.7311 - val_loss: 5.9977 - val_mae: 5.9977 - val_mse: 39.0264\n",
            "Epoch 122/300\n",
            "17/17 [==============================] - 0s 4ms/step - loss: 5.8143 - mae: 5.8143 - mse: 37.2524 - val_loss: 5.7921 - val_mae: 5.7921 - val_mse: 36.4930\n",
            "Epoch 123/300\n",
            "17/17 [==============================] - 0s 3ms/step - loss: 5.6178 - mae: 5.6178 - mse: 34.8834 - val_loss: 5.5878 - val_mae: 5.5878 - val_mse: 34.0662\n",
            "Epoch 124/300\n",
            "17/17 [==============================] - 0s 4ms/step - loss: 5.4191 - mae: 5.4191 - mse: 32.5552 - val_loss: 5.3814 - val_mae: 5.3814 - val_mse: 31.7052\n",
            "Epoch 125/300\n",
            "17/17 [==============================] - 0s 3ms/step - loss: 5.2208 - mae: 5.2208 - mse: 30.3342 - val_loss: 5.1753 - val_mae: 5.1753 - val_mse: 29.4398\n",
            "Epoch 126/300\n",
            "17/17 [==============================] - 0s 3ms/step - loss: 5.0242 - mae: 5.0242 - mse: 28.2006 - val_loss: 4.9683 - val_mae: 4.9683 - val_mse: 27.2558\n",
            "Epoch 127/300\n",
            "17/17 [==============================] - 0s 3ms/step - loss: 4.8273 - mae: 4.8273 - mse: 26.1532 - val_loss: 4.7632 - val_mae: 4.7632 - val_mse: 25.1838\n",
            "Epoch 128/300\n",
            "17/17 [==============================] - 0s 3ms/step - loss: 4.6320 - mae: 4.6320 - mse: 24.2227 - val_loss: 4.5554 - val_mae: 4.5554 - val_mse: 23.1761\n",
            "Epoch 129/300\n",
            "17/17 [==============================] - 0s 3ms/step - loss: 4.4329 - mae: 4.4329 - mse: 22.3302 - val_loss: 4.3521 - val_mae: 4.3521 - val_mse: 21.3016\n",
            "Epoch 130/300\n",
            "17/17 [==============================] - 0s 4ms/step - loss: 4.2381 - mae: 4.2381 - mse: 20.5819 - val_loss: 4.1447 - val_mae: 4.1447 - val_mse: 19.4818\n",
            "Epoch 131/300\n",
            "17/17 [==============================] - 0s 3ms/step - loss: 4.0408 - mae: 4.0408 - mse: 18.8856 - val_loss: 3.9391 - val_mae: 3.9391 - val_mse: 17.7682\n",
            "Epoch 132/300\n",
            "17/17 [==============================] - 0s 3ms/step - loss: 3.8441 - mae: 3.8441 - mse: 17.2832 - val_loss: 3.7340 - val_mae: 3.7340 - val_mse: 16.1501\n",
            "Epoch 133/300\n",
            "17/17 [==============================] - 0s 3ms/step - loss: 3.6485 - mae: 3.6485 - mse: 15.7773 - val_loss: 3.5284 - val_mae: 3.5284 - val_mse: 14.6181\n",
            "Epoch 134/300\n",
            "17/17 [==============================] - 0s 3ms/step - loss: 3.4533 - mae: 3.4533 - mse: 14.3716 - val_loss: 3.3244 - val_mae: 3.3244 - val_mse: 13.1812\n",
            "Epoch 135/300\n",
            "17/17 [==============================] - 0s 3ms/step - loss: 3.2599 - mae: 3.2599 - mse: 13.0623 - val_loss: 3.1233 - val_mae: 3.1233 - val_mse: 11.8420\n",
            "Epoch 136/300\n",
            "17/17 [==============================] - 0s 3ms/step - loss: 3.0673 - mae: 3.0673 - mse: 11.7964 - val_loss: 2.9240 - val_mae: 2.9240 - val_mse: 10.6036\n",
            "Epoch 137/300\n",
            "17/17 [==============================] - 0s 3ms/step - loss: 2.8788 - mae: 2.8788 - mse: 10.6779 - val_loss: 2.7202 - val_mae: 2.7202 - val_mse: 9.4279\n",
            "Epoch 138/300\n",
            "17/17 [==============================] - 0s 3ms/step - loss: 2.6905 - mae: 2.6905 - mse: 9.6254 - val_loss: 2.5270 - val_mae: 2.5270 - val_mse: 8.3746\n",
            "Epoch 139/300\n",
            "17/17 [==============================] - 0s 3ms/step - loss: 2.5088 - mae: 2.5088 - mse: 8.6691 - val_loss: 2.3359 - val_mae: 2.3359 - val_mse: 7.4161\n",
            "Epoch 140/300\n",
            "17/17 [==============================] - 0s 3ms/step - loss: 2.3315 - mae: 2.3315 - mse: 7.8188 - val_loss: 2.1627 - val_mae: 2.1627 - val_mse: 6.5555\n",
            "Epoch 141/300\n",
            "17/17 [==============================] - 0s 3ms/step - loss: 2.1583 - mae: 2.1583 - mse: 7.0436 - val_loss: 1.9978 - val_mae: 1.9978 - val_mse: 5.7949\n",
            "Epoch 142/300\n",
            "17/17 [==============================] - 0s 3ms/step - loss: 2.0035 - mae: 2.0035 - mse: 6.3910 - val_loss: 1.8472 - val_mae: 1.8472 - val_mse: 5.1492\n",
            "Epoch 143/300\n",
            "17/17 [==============================] - 0s 3ms/step - loss: 1.8678 - mae: 1.8678 - mse: 5.8291 - val_loss: 1.7170 - val_mae: 1.7170 - val_mse: 4.6124\n",
            "Epoch 144/300\n",
            "17/17 [==============================] - 0s 4ms/step - loss: 1.7484 - mae: 1.7484 - mse: 5.3628 - val_loss: 1.6033 - val_mae: 1.6033 - val_mse: 4.1492\n",
            "Epoch 145/300\n",
            "17/17 [==============================] - 0s 3ms/step - loss: 1.6392 - mae: 1.6392 - mse: 4.9784 - val_loss: 1.5020 - val_mae: 1.5020 - val_mse: 3.7616\n",
            "Epoch 146/300\n",
            "17/17 [==============================] - 0s 4ms/step - loss: 1.5399 - mae: 1.5399 - mse: 4.6503 - val_loss: 1.4134 - val_mae: 1.4134 - val_mse: 3.4462\n",
            "Epoch 147/300\n",
            "17/17 [==============================] - 0s 4ms/step - loss: 1.4656 - mae: 1.4656 - mse: 4.4066 - val_loss: 1.3467 - val_mae: 1.3467 - val_mse: 3.2044\n",
            "Epoch 148/300\n",
            "17/17 [==============================] - 0s 3ms/step - loss: 1.4040 - mae: 1.4040 - mse: 4.2126 - val_loss: 1.2909 - val_mae: 1.2909 - val_mse: 3.0250\n",
            "Epoch 149/300\n",
            "17/17 [==============================] - 0s 3ms/step - loss: 1.3575 - mae: 1.3575 - mse: 4.0747 - val_loss: 1.2426 - val_mae: 1.2426 - val_mse: 2.8779\n",
            "Epoch 150/300\n",
            "17/17 [==============================] - 0s 3ms/step - loss: 1.3172 - mae: 1.3172 - mse: 3.9646 - val_loss: 1.2006 - val_mae: 1.2006 - val_mse: 2.7653\n",
            "Epoch 151/300\n",
            "17/17 [==============================] - 0s 4ms/step - loss: 1.2875 - mae: 1.2875 - mse: 3.8795 - val_loss: 1.1696 - val_mae: 1.1696 - val_mse: 2.6854\n",
            "Epoch 152/300\n",
            "17/17 [==============================] - 0s 3ms/step - loss: 1.2653 - mae: 1.2653 - mse: 3.8196 - val_loss: 1.1428 - val_mae: 1.1428 - val_mse: 2.6269\n",
            "Epoch 153/300\n",
            "17/17 [==============================] - 0s 3ms/step - loss: 1.2464 - mae: 1.2464 - mse: 3.7757 - val_loss: 1.1203 - val_mae: 1.1203 - val_mse: 2.5779\n",
            "Epoch 154/300\n",
            "17/17 [==============================] - 0s 3ms/step - loss: 1.2343 - mae: 1.2343 - mse: 3.7437 - val_loss: 1.1074 - val_mae: 1.1074 - val_mse: 2.5500\n",
            "Epoch 155/300\n",
            "17/17 [==============================] - 0s 3ms/step - loss: 1.2268 - mae: 1.2268 - mse: 3.7288 - val_loss: 1.0965 - val_mae: 1.0965 - val_mse: 2.5279\n",
            "Epoch 156/300\n",
            "17/17 [==============================] - 0s 3ms/step - loss: 1.2202 - mae: 1.2202 - mse: 3.7161 - val_loss: 1.0887 - val_mae: 1.0887 - val_mse: 2.5133\n",
            "Epoch 157/300\n",
            "17/17 [==============================] - 0s 3ms/step - loss: 1.2162 - mae: 1.2162 - mse: 3.7118 - val_loss: 1.0825 - val_mae: 1.0825 - val_mse: 2.5011\n",
            "Epoch 158/300\n",
            "17/17 [==============================] - 0s 4ms/step - loss: 1.2122 - mae: 1.2122 - mse: 3.7047 - val_loss: 1.0780 - val_mae: 1.0780 - val_mse: 2.4939\n",
            "Epoch 159/300\n",
            "17/17 [==============================] - 0s 3ms/step - loss: 1.2092 - mae: 1.2092 - mse: 3.7020 - val_loss: 1.0734 - val_mae: 1.0734 - val_mse: 2.4881\n",
            "Epoch 160/300\n",
            "17/17 [==============================] - 0s 3ms/step - loss: 1.2060 - mae: 1.2060 - mse: 3.7015 - val_loss: 1.0672 - val_mae: 1.0672 - val_mse: 2.4825\n",
            "Epoch 161/300\n",
            "17/17 [==============================] - 0s 3ms/step - loss: 1.2028 - mae: 1.2028 - mse: 3.7007 - val_loss: 1.0659 - val_mae: 1.0659 - val_mse: 2.4801\n",
            "Epoch 162/300\n",
            "17/17 [==============================] - 0s 3ms/step - loss: 1.2026 - mae: 1.2026 - mse: 3.7017 - val_loss: 1.0658 - val_mae: 1.0658 - val_mse: 2.4798\n",
            "Epoch 163/300\n",
            "17/17 [==============================] - 0s 3ms/step - loss: 1.2025 - mae: 1.2025 - mse: 3.7016 - val_loss: 1.0658 - val_mae: 1.0658 - val_mse: 2.4795\n",
            "Epoch 164/300\n",
            "17/17 [==============================] - 0s 3ms/step - loss: 1.2025 - mae: 1.2025 - mse: 3.7024 - val_loss: 1.0657 - val_mae: 1.0657 - val_mse: 2.4792\n",
            "Epoch 165/300\n",
            "17/17 [==============================] - 0s 3ms/step - loss: 1.2025 - mae: 1.2025 - mse: 3.7025 - val_loss: 1.0657 - val_mae: 1.0657 - val_mse: 2.4790\n",
            "Epoch 166/300\n",
            "17/17 [==============================] - 0s 5ms/step - loss: 1.2025 - mae: 1.2025 - mse: 3.7017 - val_loss: 1.0657 - val_mae: 1.0657 - val_mse: 2.4791\n",
            "Epoch 167/300\n",
            "17/17 [==============================] - 0s 3ms/step - loss: 1.2023 - mae: 1.2023 - mse: 3.7022 - val_loss: 1.0656 - val_mae: 1.0656 - val_mse: 2.4787\n",
            "Epoch 168/300\n",
            "17/17 [==============================] - 0s 3ms/step - loss: 1.2022 - mae: 1.2022 - mse: 3.7029 - val_loss: 1.0655 - val_mae: 1.0655 - val_mse: 2.4784\n",
            "Epoch 169/300\n",
            "17/17 [==============================] - 0s 3ms/step - loss: 1.2023 - mae: 1.2023 - mse: 3.7028 - val_loss: 1.0655 - val_mae: 1.0655 - val_mse: 2.4784\n",
            "Epoch 170/300\n",
            "17/17 [==============================] - 0s 3ms/step - loss: 1.2023 - mae: 1.2023 - mse: 3.7043 - val_loss: 1.0654 - val_mae: 1.0654 - val_mse: 2.4782\n",
            "Epoch 171/300\n",
            "17/17 [==============================] - 0s 3ms/step - loss: 1.2021 - mae: 1.2021 - mse: 3.7037 - val_loss: 1.0653 - val_mae: 1.0653 - val_mse: 2.4780\n",
            "Epoch 172/300\n",
            "17/17 [==============================] - 0s 4ms/step - loss: 1.2020 - mae: 1.2020 - mse: 3.7050 - val_loss: 1.0652 - val_mae: 1.0652 - val_mse: 2.4783\n",
            "Epoch 173/300\n",
            "17/17 [==============================] - 0s 3ms/step - loss: 1.2021 - mae: 1.2021 - mse: 3.7063 - val_loss: 1.0652 - val_mae: 1.0652 - val_mse: 2.4782\n",
            "Epoch 174/300\n",
            "17/17 [==============================] - 0s 3ms/step - loss: 1.2019 - mae: 1.2019 - mse: 3.7061 - val_loss: 1.0651 - val_mae: 1.0651 - val_mse: 2.4781\n",
            "Epoch 175/300\n",
            "17/17 [==============================] - 0s 3ms/step - loss: 1.2019 - mae: 1.2019 - mse: 3.7076 - val_loss: 1.0650 - val_mae: 1.0650 - val_mse: 2.4784\n",
            "Epoch 176/300\n",
            "17/17 [==============================] - 0s 4ms/step - loss: 1.2018 - mae: 1.2018 - mse: 3.7081 - val_loss: 1.0650 - val_mae: 1.0650 - val_mse: 2.4784\n",
            "Epoch 177/300\n",
            "17/17 [==============================] - 0s 3ms/step - loss: 1.2017 - mae: 1.2017 - mse: 3.7087 - val_loss: 1.0649 - val_mae: 1.0649 - val_mse: 2.4787\n",
            "Epoch 178/300\n",
            "17/17 [==============================] - 0s 3ms/step - loss: 1.2017 - mae: 1.2017 - mse: 3.7092 - val_loss: 1.0648 - val_mae: 1.0648 - val_mse: 2.4787\n",
            "Epoch 179/300\n",
            "17/17 [==============================] - 0s 4ms/step - loss: 1.2016 - mae: 1.2016 - mse: 3.7104 - val_loss: 1.0648 - val_mae: 1.0648 - val_mse: 2.4792\n",
            "Epoch 180/300\n",
            "17/17 [==============================] - 0s 3ms/step - loss: 1.2016 - mae: 1.2016 - mse: 3.7108 - val_loss: 1.0647 - val_mae: 1.0647 - val_mse: 2.4789\n",
            "Epoch 181/300\n",
            "17/17 [==============================] - 0s 4ms/step - loss: 1.2016 - mae: 1.2016 - mse: 3.7123 - val_loss: 1.0646 - val_mae: 1.0646 - val_mse: 2.4798\n",
            "Epoch 182/300\n",
            "17/17 [==============================] - 0s 4ms/step - loss: 1.2015 - mae: 1.2015 - mse: 3.7116 - val_loss: 1.0647 - val_mae: 1.0647 - val_mse: 2.4790\n",
            "Epoch 183/300\n",
            "17/17 [==============================] - 0s 3ms/step - loss: 1.2013 - mae: 1.2013 - mse: 3.7116 - val_loss: 1.0645 - val_mae: 1.0645 - val_mse: 2.4796\n",
            "Epoch 184/300\n",
            "17/17 [==============================] - 0s 3ms/step - loss: 1.2013 - mae: 1.2013 - mse: 3.7132 - val_loss: 1.0645 - val_mae: 1.0645 - val_mse: 2.4800\n",
            "Epoch 185/300\n",
            "17/17 [==============================] - 0s 4ms/step - loss: 1.2015 - mae: 1.2015 - mse: 3.7117 - val_loss: 1.0645 - val_mae: 1.0645 - val_mse: 2.4787\n",
            "Epoch 186/300\n",
            "17/17 [==============================] - 0s 2ms/step - loss: 1.2013 - mae: 1.2013 - mse: 3.7115 - val_loss: 1.0644 - val_mae: 1.0644 - val_mse: 2.4790\n",
            "Epoch 187/300\n",
            "17/17 [==============================] - 0s 4ms/step - loss: 1.2014 - mae: 1.2014 - mse: 3.7141 - val_loss: 1.0644 - val_mae: 1.0644 - val_mse: 2.4798\n",
            "Epoch 188/300\n",
            "17/17 [==============================] - 0s 4ms/step - loss: 1.2011 - mae: 1.2011 - mse: 3.7132 - val_loss: 1.0643 - val_mae: 1.0643 - val_mse: 2.4793\n",
            "Epoch 189/300\n",
            "17/17 [==============================] - 0s 4ms/step - loss: 1.2011 - mae: 1.2011 - mse: 3.7109 - val_loss: 1.0644 - val_mae: 1.0644 - val_mse: 2.4783\n",
            "Epoch 190/300\n",
            "17/17 [==============================] - 0s 3ms/step - loss: 1.2014 - mae: 1.2014 - mse: 3.7117 - val_loss: 1.0643 - val_mae: 1.0643 - val_mse: 2.4787\n",
            "Epoch 191/300\n",
            "17/17 [==============================] - 0s 3ms/step - loss: 1.2010 - mae: 1.2010 - mse: 3.7124 - val_loss: 1.0642 - val_mae: 1.0642 - val_mse: 2.4796\n",
            "Epoch 192/300\n",
            "17/17 [==============================] - 0s 3ms/step - loss: 1.2013 - mae: 1.2013 - mse: 3.7156 - val_loss: 1.0642 - val_mae: 1.0642 - val_mse: 2.4805\n",
            "Epoch 193/300\n",
            "17/17 [==============================] - 0s 3ms/step - loss: 1.2009 - mae: 1.2009 - mse: 3.7137 - val_loss: 1.0642 - val_mae: 1.0642 - val_mse: 2.4787\n",
            "Epoch 194/300\n",
            "17/17 [==============================] - 0s 4ms/step - loss: 1.2010 - mae: 1.2010 - mse: 3.7114 - val_loss: 1.0641 - val_mae: 1.0641 - val_mse: 2.4783\n",
            "Epoch 195/300\n",
            "17/17 [==============================] - 0s 3ms/step - loss: 1.2011 - mae: 1.2011 - mse: 3.7140 - val_loss: 1.0641 - val_mae: 1.0641 - val_mse: 2.4795\n",
            "Epoch 196/300\n",
            "17/17 [==============================] - 0s 3ms/step - loss: 1.2010 - mae: 1.2010 - mse: 3.7122 - val_loss: 1.0641 - val_mae: 1.0641 - val_mse: 2.4778\n",
            "Epoch 197/300\n",
            "17/17 [==============================] - 0s 2ms/step - loss: 1.2009 - mae: 1.2009 - mse: 3.7100 - val_loss: 1.0641 - val_mae: 1.0641 - val_mse: 2.4773\n",
            "Epoch 198/300\n",
            "17/17 [==============================] - 0s 3ms/step - loss: 1.2009 - mae: 1.2009 - mse: 3.7099 - val_loss: 1.0640 - val_mae: 1.0640 - val_mse: 2.4773\n",
            "Epoch 199/300\n",
            "17/17 [==============================] - 0s 2ms/step - loss: 1.2010 - mae: 1.2010 - mse: 3.7094 - val_loss: 1.0640 - val_mae: 1.0640 - val_mse: 2.4771\n",
            "Epoch 200/300\n",
            "17/17 [==============================] - 0s 3ms/step - loss: 1.2011 - mae: 1.2011 - mse: 3.7136 - val_loss: 1.0640 - val_mae: 1.0640 - val_mse: 2.4791\n",
            "Epoch 201/300\n",
            "17/17 [==============================] - 0s 4ms/step - loss: 1.2009 - mae: 1.2009 - mse: 3.7113 - val_loss: 1.0639 - val_mae: 1.0639 - val_mse: 2.4769\n",
            "Epoch 202/300\n",
            "17/17 [==============================] - 0s 4ms/step - loss: 1.2008 - mae: 1.2008 - mse: 3.7095 - val_loss: 1.0639 - val_mae: 1.0639 - val_mse: 2.4768\n",
            "Epoch 203/300\n",
            "17/17 [==============================] - 0s 3ms/step - loss: 1.2007 - mae: 1.2007 - mse: 3.7096 - val_loss: 1.0638 - val_mae: 1.0638 - val_mse: 2.4768\n",
            "Epoch 204/300\n",
            "17/17 [==============================] - 0s 4ms/step - loss: 1.2006 - mae: 1.2006 - mse: 3.7096 - val_loss: 1.0637 - val_mae: 1.0637 - val_mse: 2.4769\n",
            "Epoch 205/300\n",
            "17/17 [==============================] - 0s 3ms/step - loss: 1.2006 - mae: 1.2006 - mse: 3.7096 - val_loss: 1.0637 - val_mae: 1.0637 - val_mse: 2.4771\n",
            "Epoch 206/300\n",
            "17/17 [==============================] - 0s 3ms/step - loss: 1.2006 - mae: 1.2006 - mse: 3.7109 - val_loss: 1.0637 - val_mae: 1.0637 - val_mse: 2.4771\n",
            "Epoch 207/300\n",
            "17/17 [==============================] - 0s 3ms/step - loss: 1.2005 - mae: 1.2005 - mse: 3.7103 - val_loss: 1.0636 - val_mae: 1.0636 - val_mse: 2.4769\n",
            "Epoch 208/300\n",
            "17/17 [==============================] - 0s 4ms/step - loss: 1.2004 - mae: 1.2004 - mse: 3.7095 - val_loss: 1.0637 - val_mae: 1.0637 - val_mse: 2.4758\n",
            "Epoch 209/300\n",
            "17/17 [==============================] - 0s 3ms/step - loss: 1.2005 - mae: 1.2005 - mse: 3.7078 - val_loss: 1.0636 - val_mae: 1.0636 - val_mse: 2.4757\n",
            "Epoch 210/300\n",
            "17/17 [==============================] - 0s 3ms/step - loss: 1.2005 - mae: 1.2005 - mse: 3.7090 - val_loss: 1.0635 - val_mae: 1.0635 - val_mse: 2.4764\n",
            "Epoch 211/300\n",
            "17/17 [==============================] - 0s 3ms/step - loss: 1.2004 - mae: 1.2004 - mse: 3.7085 - val_loss: 1.0635 - val_mae: 1.0635 - val_mse: 2.4758\n",
            "Epoch 212/300\n",
            "17/17 [==============================] - 0s 3ms/step - loss: 1.2004 - mae: 1.2004 - mse: 3.7087 - val_loss: 1.0634 - val_mae: 1.0634 - val_mse: 2.4760\n",
            "Epoch 213/300\n",
            "17/17 [==============================] - 0s 3ms/step - loss: 1.2003 - mae: 1.2003 - mse: 3.7089 - val_loss: 1.0634 - val_mae: 1.0634 - val_mse: 2.4757\n",
            "Epoch 214/300\n",
            "17/17 [==============================] - 0s 3ms/step - loss: 1.2003 - mae: 1.2003 - mse: 3.7090 - val_loss: 1.0634 - val_mae: 1.0634 - val_mse: 2.4754\n",
            "Epoch 215/300\n",
            "17/17 [==============================] - 0s 3ms/step - loss: 1.2002 - mae: 1.2002 - mse: 3.7077 - val_loss: 1.0633 - val_mae: 1.0633 - val_mse: 2.4750\n",
            "Epoch 216/300\n",
            "17/17 [==============================] - 0s 2ms/step - loss: 1.2002 - mae: 1.2002 - mse: 3.7075 - val_loss: 1.0633 - val_mae: 1.0633 - val_mse: 2.4753\n",
            "Epoch 217/300\n",
            "17/17 [==============================] - 0s 4ms/step - loss: 1.2003 - mae: 1.2003 - mse: 3.7084 - val_loss: 1.0632 - val_mae: 1.0632 - val_mse: 2.4749\n",
            "Epoch 218/300\n",
            "17/17 [==============================] - 0s 3ms/step - loss: 1.2000 - mae: 1.2000 - mse: 3.7059 - val_loss: 1.0633 - val_mae: 1.0633 - val_mse: 2.4738\n",
            "Epoch 219/300\n",
            "17/17 [==============================] - 0s 3ms/step - loss: 1.2003 - mae: 1.2003 - mse: 3.7062 - val_loss: 1.0632 - val_mae: 1.0632 - val_mse: 2.4741\n",
            "Epoch 220/300\n",
            "17/17 [==============================] - 0s 3ms/step - loss: 1.2001 - mae: 1.2001 - mse: 3.7068 - val_loss: 1.0631 - val_mae: 1.0631 - val_mse: 2.4741\n",
            "Epoch 221/300\n",
            "17/17 [==============================] - 0s 4ms/step - loss: 1.2004 - mae: 1.2004 - mse: 3.7036 - val_loss: 1.0632 - val_mae: 1.0632 - val_mse: 2.4722\n",
            "Epoch 222/300\n",
            "17/17 [==============================] - 0s 3ms/step - loss: 1.2001 - mae: 1.2001 - mse: 3.7023 - val_loss: 1.0631 - val_mae: 1.0631 - val_mse: 2.4724\n",
            "Epoch 223/300\n",
            "17/17 [==============================] - 0s 4ms/step - loss: 1.2000 - mae: 1.2000 - mse: 3.7042 - val_loss: 1.0630 - val_mae: 1.0630 - val_mse: 2.4734\n",
            "Epoch 224/300\n",
            "17/17 [==============================] - 0s 3ms/step - loss: 1.1999 - mae: 1.1999 - mse: 3.7060 - val_loss: 1.0629 - val_mae: 1.0629 - val_mse: 2.4737\n",
            "Epoch 225/300\n",
            "17/17 [==============================] - 0s 3ms/step - loss: 1.1998 - mae: 1.1998 - mse: 3.7052 - val_loss: 1.0629 - val_mae: 1.0629 - val_mse: 2.4730\n",
            "Epoch 226/300\n",
            "17/17 [==============================] - 0s 3ms/step - loss: 1.1998 - mae: 1.1998 - mse: 3.7054 - val_loss: 1.0628 - val_mae: 1.0628 - val_mse: 2.4732\n",
            "Epoch 227/300\n",
            "17/17 [==============================] - 0s 3ms/step - loss: 1.2001 - mae: 1.2001 - mse: 3.7052 - val_loss: 1.0628 - val_mae: 1.0628 - val_mse: 2.4725\n",
            "Epoch 228/300\n",
            "17/17 [==============================] - 0s 3ms/step - loss: 1.1996 - mae: 1.1996 - mse: 3.7047 - val_loss: 1.0628 - val_mae: 1.0628 - val_mse: 2.4727\n",
            "Epoch 229/300\n",
            "17/17 [==============================] - 0s 4ms/step - loss: 1.1998 - mae: 1.1998 - mse: 3.7023 - val_loss: 1.0628 - val_mae: 1.0628 - val_mse: 2.4713\n",
            "Epoch 230/300\n",
            "17/17 [==============================] - 0s 3ms/step - loss: 1.1997 - mae: 1.1997 - mse: 3.7020 - val_loss: 1.0627 - val_mae: 1.0627 - val_mse: 2.4717\n",
            "Epoch 231/300\n",
            "17/17 [==============================] - 0s 4ms/step - loss: 1.1997 - mae: 1.1997 - mse: 3.7030 - val_loss: 1.0627 - val_mae: 1.0627 - val_mse: 2.4714\n",
            "Epoch 232/300\n",
            "17/17 [==============================] - 0s 4ms/step - loss: 1.1996 - mae: 1.1996 - mse: 3.7015 - val_loss: 1.0627 - val_mae: 1.0627 - val_mse: 2.4709\n",
            "Epoch 233/300\n",
            "17/17 [==============================] - 0s 3ms/step - loss: 1.1998 - mae: 1.1998 - mse: 3.7031 - val_loss: 1.0626 - val_mae: 1.0626 - val_mse: 2.4715\n",
            "Epoch 234/300\n",
            "17/17 [==============================] - 0s 3ms/step - loss: 1.1997 - mae: 1.1997 - mse: 3.7041 - val_loss: 1.0625 - val_mae: 1.0625 - val_mse: 2.4716\n",
            "Epoch 235/300\n",
            "17/17 [==============================] - 0s 3ms/step - loss: 1.1994 - mae: 1.1994 - mse: 3.7000 - val_loss: 1.0626 - val_mae: 1.0626 - val_mse: 2.4696\n",
            "Epoch 236/300\n",
            "17/17 [==============================] - 0s 3ms/step - loss: 1.1995 - mae: 1.1995 - mse: 3.6981 - val_loss: 1.0625 - val_mae: 1.0625 - val_mse: 2.4695\n",
            "Epoch 237/300\n",
            "17/17 [==============================] - 0s 3ms/step - loss: 1.1993 - mae: 1.1993 - mse: 3.7000 - val_loss: 1.0624 - val_mae: 1.0624 - val_mse: 2.4707\n",
            "Epoch 238/300\n",
            "17/17 [==============================] - 0s 3ms/step - loss: 1.1996 - mae: 1.1996 - mse: 3.7019 - val_loss: 1.0623 - val_mae: 1.0623 - val_mse: 2.4702\n",
            "Epoch 239/300\n",
            "17/17 [==============================] - 0s 3ms/step - loss: 1.1993 - mae: 1.1993 - mse: 3.7029 - val_loss: 1.0624 - val_mae: 1.0624 - val_mse: 2.4715\n",
            "Epoch 240/300\n",
            "17/17 [==============================] - 0s 3ms/step - loss: 1.1997 - mae: 1.1997 - mse: 3.7048 - val_loss: 1.0622 - val_mae: 1.0622 - val_mse: 2.4707\n",
            "Epoch 241/300\n",
            "17/17 [==============================] - 0s 4ms/step - loss: 1.1995 - mae: 1.1995 - mse: 3.6971 - val_loss: 1.0623 - val_mae: 1.0623 - val_mse: 2.4682\n",
            "Epoch 242/300\n",
            "17/17 [==============================] - 0s 3ms/step - loss: 1.1992 - mae: 1.1992 - mse: 3.6969 - val_loss: 1.0622 - val_mae: 1.0622 - val_mse: 2.4685\n",
            "Epoch 243/300\n",
            "17/17 [==============================] - 0s 3ms/step - loss: 1.1992 - mae: 1.1992 - mse: 3.6978 - val_loss: 1.0621 - val_mae: 1.0621 - val_mse: 2.4684\n",
            "Epoch 244/300\n",
            "17/17 [==============================] - 0s 3ms/step - loss: 1.1993 - mae: 1.1993 - mse: 3.6972 - val_loss: 1.0621 - val_mae: 1.0621 - val_mse: 2.4680\n",
            "Epoch 245/300\n",
            "17/17 [==============================] - 0s 4ms/step - loss: 1.1990 - mae: 1.1990 - mse: 3.6981 - val_loss: 1.0620 - val_mae: 1.0620 - val_mse: 2.4686\n",
            "Epoch 246/300\n",
            "17/17 [==============================] - 0s 3ms/step - loss: 1.1989 - mae: 1.1989 - mse: 3.6981 - val_loss: 1.0619 - val_mae: 1.0619 - val_mse: 2.4680\n",
            "Epoch 247/300\n",
            "17/17 [==============================] - 0s 4ms/step - loss: 1.1989 - mae: 1.1989 - mse: 3.6982 - val_loss: 1.0618 - val_mae: 1.0618 - val_mse: 2.4683\n",
            "Epoch 248/300\n",
            "17/17 [==============================] - 0s 3ms/step - loss: 1.1988 - mae: 1.1988 - mse: 3.6982 - val_loss: 1.0618 - val_mae: 1.0618 - val_mse: 2.4678\n",
            "Epoch 249/300\n",
            "17/17 [==============================] - 0s 3ms/step - loss: 1.1990 - mae: 1.1990 - mse: 3.6994 - val_loss: 1.0617 - val_mae: 1.0617 - val_mse: 2.4681\n",
            "Epoch 250/300\n",
            "17/17 [==============================] - 0s 3ms/step - loss: 1.1987 - mae: 1.1987 - mse: 3.6957 - val_loss: 1.0618 - val_mae: 1.0618 - val_mse: 2.4664\n",
            "Epoch 251/300\n",
            "17/17 [==============================] - 0s 3ms/step - loss: 1.1990 - mae: 1.1990 - mse: 3.6943 - val_loss: 1.0618 - val_mae: 1.0618 - val_mse: 2.4657\n",
            "Epoch 252/300\n",
            "17/17 [==============================] - 0s 4ms/step - loss: 1.1989 - mae: 1.1989 - mse: 3.6942 - val_loss: 1.0617 - val_mae: 1.0617 - val_mse: 2.4663\n",
            "Epoch 253/300\n",
            "17/17 [==============================] - 0s 3ms/step - loss: 1.1985 - mae: 1.1985 - mse: 3.6957 - val_loss: 1.0615 - val_mae: 1.0615 - val_mse: 2.4670\n",
            "Epoch 254/300\n",
            "17/17 [==============================] - 0s 3ms/step - loss: 1.1985 - mae: 1.1985 - mse: 3.6970 - val_loss: 1.0615 - val_mae: 1.0615 - val_mse: 2.4671\n",
            "Epoch 255/300\n",
            "17/17 [==============================] - 0s 3ms/step - loss: 1.1991 - mae: 1.1991 - mse: 3.6969 - val_loss: 1.0615 - val_mae: 1.0615 - val_mse: 2.4654\n",
            "Epoch 256/300\n",
            "17/17 [==============================] - 0s 3ms/step - loss: 1.1983 - mae: 1.1983 - mse: 3.6952 - val_loss: 1.0614 - val_mae: 1.0614 - val_mse: 2.4666\n",
            "Epoch 257/300\n",
            "17/17 [==============================] - 0s 4ms/step - loss: 1.1987 - mae: 1.1987 - mse: 3.6978 - val_loss: 1.0613 - val_mae: 1.0613 - val_mse: 2.4660\n",
            "Epoch 258/300\n",
            "17/17 [==============================] - 0s 3ms/step - loss: 1.1984 - mae: 1.1984 - mse: 3.6966 - val_loss: 1.0613 - val_mae: 1.0613 - val_mse: 2.4660\n",
            "Epoch 259/300\n",
            "17/17 [==============================] - 0s 3ms/step - loss: 1.1989 - mae: 1.1989 - mse: 3.6941 - val_loss: 1.0614 - val_mae: 1.0614 - val_mse: 2.4641\n",
            "Epoch 260/300\n",
            "17/17 [==============================] - 0s 3ms/step - loss: 1.1984 - mae: 1.1984 - mse: 3.6904 - val_loss: 1.0614 - val_mae: 1.0614 - val_mse: 2.4638\n",
            "Epoch 261/300\n",
            "17/17 [==============================] - 0s 4ms/step - loss: 1.1983 - mae: 1.1983 - mse: 3.6887 - val_loss: 1.0614 - val_mae: 1.0614 - val_mse: 2.4633\n",
            "Epoch 262/300\n",
            "17/17 [==============================] - 0s 4ms/step - loss: 1.1984 - mae: 1.1984 - mse: 3.6884 - val_loss: 1.0613 - val_mae: 1.0613 - val_mse: 2.4631\n",
            "Epoch 263/300\n",
            "17/17 [==============================] - 0s 3ms/step - loss: 1.1984 - mae: 1.1984 - mse: 3.6894 - val_loss: 1.0611 - val_mae: 1.0611 - val_mse: 2.4633\n",
            "Epoch 264/300\n",
            "17/17 [==============================] - 0s 3ms/step - loss: 1.1983 - mae: 1.1983 - mse: 3.6888 - val_loss: 1.0611 - val_mae: 1.0611 - val_mse: 2.4629\n",
            "Epoch 265/300\n",
            "17/17 [==============================] - 0s 3ms/step - loss: 1.1981 - mae: 1.1981 - mse: 3.6904 - val_loss: 1.0610 - val_mae: 1.0610 - val_mse: 2.4633\n",
            "Epoch 266/300\n",
            "17/17 [==============================] - 0s 4ms/step - loss: 1.1980 - mae: 1.1980 - mse: 3.6904 - val_loss: 1.0609 - val_mae: 1.0609 - val_mse: 2.4629\n",
            "Epoch 267/300\n",
            "17/17 [==============================] - 0s 3ms/step - loss: 1.1982 - mae: 1.1982 - mse: 3.6917 - val_loss: 1.0608 - val_mae: 1.0608 - val_mse: 2.4632\n",
            "Epoch 268/300\n",
            "17/17 [==============================] - 0s 3ms/step - loss: 1.1979 - mae: 1.1979 - mse: 3.6899 - val_loss: 1.0608 - val_mae: 1.0608 - val_mse: 2.4620\n",
            "Epoch 269/300\n",
            "17/17 [==============================] - 0s 4ms/step - loss: 1.1981 - mae: 1.1981 - mse: 3.6874 - val_loss: 1.0608 - val_mae: 1.0608 - val_mse: 2.4616\n",
            "Epoch 270/300\n",
            "17/17 [==============================] - 0s 3ms/step - loss: 1.1977 - mae: 1.1977 - mse: 3.6875 - val_loss: 1.0606 - val_mae: 1.0606 - val_mse: 2.4620\n",
            "Epoch 271/300\n",
            "17/17 [==============================] - 0s 3ms/step - loss: 1.1977 - mae: 1.1977 - mse: 3.6897 - val_loss: 1.0605 - val_mae: 1.0605 - val_mse: 2.4624\n",
            "Epoch 272/300\n",
            "17/17 [==============================] - 0s 3ms/step - loss: 1.1976 - mae: 1.1976 - mse: 3.6899 - val_loss: 1.0605 - val_mae: 1.0605 - val_mse: 2.4617\n",
            "Epoch 273/300\n",
            "17/17 [==============================] - 0s 3ms/step - loss: 1.1978 - mae: 1.1978 - mse: 3.6909 - val_loss: 1.0604 - val_mae: 1.0604 - val_mse: 2.4615\n",
            "Epoch 274/300\n",
            "17/17 [==============================] - 0s 3ms/step - loss: 1.1976 - mae: 1.1976 - mse: 3.6898 - val_loss: 1.0604 - val_mae: 1.0604 - val_mse: 2.4611\n",
            "Epoch 275/300\n",
            "17/17 [==============================] - 0s 3ms/step - loss: 1.1976 - mae: 1.1976 - mse: 3.6864 - val_loss: 1.0605 - val_mae: 1.0605 - val_mse: 2.4598\n",
            "Epoch 276/300\n",
            "17/17 [==============================] - 0s 3ms/step - loss: 1.1976 - mae: 1.1976 - mse: 3.6846 - val_loss: 1.0604 - val_mae: 1.0604 - val_mse: 2.4598\n",
            "Epoch 277/300\n",
            "17/17 [==============================] - 0s 3ms/step - loss: 1.1976 - mae: 1.1976 - mse: 3.6858 - val_loss: 1.0602 - val_mae: 1.0602 - val_mse: 2.4604\n",
            "Epoch 278/300\n",
            "17/17 [==============================] - 0s 3ms/step - loss: 1.1972 - mae: 1.1972 - mse: 3.6878 - val_loss: 1.0601 - val_mae: 1.0601 - val_mse: 2.4607\n",
            "Epoch 279/300\n",
            "17/17 [==============================] - 0s 4ms/step - loss: 1.1971 - mae: 1.1971 - mse: 3.6879 - val_loss: 1.0600 - val_mae: 1.0600 - val_mse: 2.4602\n",
            "Epoch 280/300\n",
            "17/17 [==============================] - 0s 3ms/step - loss: 1.1974 - mae: 1.1974 - mse: 3.6885 - val_loss: 1.0600 - val_mae: 1.0600 - val_mse: 2.4603\n",
            "Epoch 281/300\n",
            "17/17 [==============================] - 0s 3ms/step - loss: 1.1972 - mae: 1.1972 - mse: 3.6869 - val_loss: 1.0599 - val_mae: 1.0599 - val_mse: 2.4594\n",
            "Epoch 282/300\n",
            "17/17 [==============================] - 0s 4ms/step - loss: 1.1970 - mae: 1.1970 - mse: 3.6867 - val_loss: 1.0598 - val_mae: 1.0598 - val_mse: 2.4593\n",
            "Epoch 283/300\n",
            "17/17 [==============================] - 0s 3ms/step - loss: 1.1970 - mae: 1.1970 - mse: 3.6867 - val_loss: 1.0598 - val_mae: 1.0598 - val_mse: 2.4588\n",
            "Epoch 284/300\n",
            "17/17 [==============================] - 0s 3ms/step - loss: 1.1970 - mae: 1.1970 - mse: 3.6839 - val_loss: 1.0598 - val_mae: 1.0598 - val_mse: 2.4582\n",
            "Epoch 285/300\n",
            "17/17 [==============================] - 0s 3ms/step - loss: 1.1969 - mae: 1.1969 - mse: 3.6841 - val_loss: 1.0597 - val_mae: 1.0597 - val_mse: 2.4578\n",
            "Epoch 286/300\n",
            "17/17 [==============================] - 0s 3ms/step - loss: 1.1968 - mae: 1.1968 - mse: 3.6808 - val_loss: 1.0597 - val_mae: 1.0597 - val_mse: 2.4573\n",
            "Epoch 287/300\n",
            "17/17 [==============================] - 0s 3ms/step - loss: 1.1968 - mae: 1.1968 - mse: 3.6818 - val_loss: 1.0596 - val_mae: 1.0596 - val_mse: 2.4575\n",
            "Epoch 288/300\n",
            "17/17 [==============================] - 0s 4ms/step - loss: 1.1974 - mae: 1.1974 - mse: 3.6861 - val_loss: 1.0595 - val_mae: 1.0595 - val_mse: 2.4584\n",
            "Epoch 289/300\n",
            "17/17 [==============================] - 0s 3ms/step - loss: 1.1967 - mae: 1.1967 - mse: 3.6851 - val_loss: 1.0593 - val_mae: 1.0593 - val_mse: 2.4576\n",
            "Epoch 290/300\n",
            "17/17 [==============================] - 0s 3ms/step - loss: 1.1965 - mae: 1.1965 - mse: 3.6848 - val_loss: 1.0593 - val_mae: 1.0593 - val_mse: 2.4570\n",
            "Epoch 291/300\n",
            "17/17 [==============================] - 0s 3ms/step - loss: 1.1966 - mae: 1.1966 - mse: 3.6822 - val_loss: 1.0593 - val_mae: 1.0593 - val_mse: 2.4565\n",
            "Epoch 292/300\n",
            "17/17 [==============================] - 0s 4ms/step - loss: 1.1966 - mae: 1.1966 - mse: 3.6815 - val_loss: 1.0592 - val_mae: 1.0592 - val_mse: 2.4560\n",
            "Epoch 293/300\n",
            "17/17 [==============================] - 0s 4ms/step - loss: 1.1972 - mae: 1.1972 - mse: 3.6861 - val_loss: 1.0592 - val_mae: 1.0592 - val_mse: 2.4572\n",
            "Epoch 294/300\n",
            "17/17 [==============================] - 0s 3ms/step - loss: 1.1963 - mae: 1.1963 - mse: 3.6816 - val_loss: 1.0591 - val_mae: 1.0591 - val_mse: 2.4559\n",
            "Epoch 295/300\n",
            "17/17 [==============================] - 0s 3ms/step - loss: 1.1964 - mae: 1.1964 - mse: 3.6826 - val_loss: 1.0589 - val_mae: 1.0589 - val_mse: 2.4558\n",
            "Epoch 296/300\n",
            "17/17 [==============================] - 0s 4ms/step - loss: 1.1961 - mae: 1.1961 - mse: 3.6811 - val_loss: 1.0589 - val_mae: 1.0589 - val_mse: 2.4553\n",
            "Epoch 297/300\n",
            "17/17 [==============================] - 0s 3ms/step - loss: 1.1963 - mae: 1.1963 - mse: 3.6803 - val_loss: 1.0588 - val_mae: 1.0588 - val_mse: 2.4548\n",
            "Epoch 298/300\n",
            "17/17 [==============================] - 0s 4ms/step - loss: 1.1961 - mae: 1.1961 - mse: 3.6808 - val_loss: 1.0587 - val_mae: 1.0587 - val_mse: 2.4550\n",
            "Epoch 299/300\n",
            "17/17 [==============================] - 0s 3ms/step - loss: 1.1960 - mae: 1.1960 - mse: 3.6797 - val_loss: 1.0587 - val_mae: 1.0587 - val_mse: 2.4541\n",
            "Epoch 300/300\n",
            "17/17 [==============================] - 0s 3ms/step - loss: 1.1960 - mae: 1.1960 - mse: 3.6797 - val_loss: 1.0586 - val_mae: 1.0586 - val_mse: 2.4539\n"
          ],
          "name": "stdout"
        }
      ]
    },
    {
      "cell_type": "code",
      "metadata": {
        "colab": {
          "base_uri": "https://localhost:8080/"
        },
        "id": "55r_rOhqvaDL",
        "outputId": "cef1aa69-fb1d-402c-9264-5f855984bda8"
      },
      "source": [
        "history"
      ],
      "execution_count": null,
      "outputs": [
        {
          "output_type": "execute_result",
          "data": {
            "text/plain": [
              "<tensorflow.python.keras.callbacks.History at 0x7fe76463de90>"
            ]
          },
          "metadata": {
            "tags": []
          },
          "execution_count": 17
        }
      ]
    },
    {
      "cell_type": "code",
      "metadata": {
        "colab": {
          "base_uri": "https://localhost:8080/"
        },
        "id": "XYbDMGr2yIy8",
        "outputId": "a4a8800b-452a-4015-9a71-fd9b0a445f1a"
      },
      "source": [
        "model.summary()"
      ],
      "execution_count": null,
      "outputs": [
        {
          "output_type": "stream",
          "text": [
            "Model: \"sequential\"\n",
            "_________________________________________________________________\n",
            "Layer (type)                 Output Shape              Param #   \n",
            "=================================================================\n",
            "dense (Dense)                (None, 1)                 2         \n",
            "=================================================================\n",
            "Total params: 2\n",
            "Trainable params: 2\n",
            "Non-trainable params: 0\n",
            "_________________________________________________________________\n"
          ],
          "name": "stdout"
        }
      ]
    },
    {
      "cell_type": "code",
      "metadata": {
        "colab": {
          "base_uri": "https://localhost:8080/",
          "height": 803
        },
        "id": "46msJGMryRO7",
        "outputId": "e7dbba15-603b-4652-e557-ec319d3309fc"
      },
      "source": [
        "def curvePlots(tempString):\n",
        "  plt.plot(history.history[tempString])\n",
        "  plt.plot(history.history[f'val_{tempString}'])\n",
        "  plt.xlabel('NumEpochs')\n",
        "  plt.ylabel(tempString)\n",
        "  plt.legend([tempString, f'val_{tempString}'])\n",
        "  plt.show()\n",
        "\n",
        "curvePlots('mse')\n",
        "curvePlots('mae')\n",
        "curvePlots('loss')"
      ],
      "execution_count": null,
      "outputs": [
        {
          "output_type": "display_data",
          "data": {
            "image/png": "[encoded data removed]",
            "text/plain": [
              "<Figure size 432x288 with 1 Axes>"
            ]
          },
          "metadata": {
            "tags": [],
            "needs_background": "light"
          }
        },
        {
          "output_type": "display_data",
          "data": {
            "image/png": "[encoded data removed]",
            "text/plain": [
              "<Figure size 432x288 with 1 Axes>"
            ]
          },
          "metadata": {
            "tags": [],
            "needs_background": "light"
          }
        },
        {
          "output_type": "display_data",
          "data": {
            "image/png": "[encoded data removed]",
            "text/plain": [
              "<Figure size 432x288 with 1 Axes>"
            ]
          },
          "metadata": {
            "tags": [],
            "needs_background": "light"
          }
        }
      ]
    },
    {
      "cell_type": "code",
      "metadata": {
        "colab": {
          "base_uri": "https://localhost:8080/"
        },
        "id": "TA5_bppBzH4R",
        "outputId": "fa2b1541-cf60-4a9f-b1cd-81f11f90edb2"
      },
      "source": [
        "print(testFeatures)"
      ],
      "execution_count": null,
      "outputs": [
        {
          "output_type": "stream",
          "text": [
            "     G1\n",
            "9    12\n",
            "11   10\n",
            "19   12\n",
            "23   10\n",
            "25   10\n",
            "..   ..\n",
            "619  13\n",
            "627   9\n",
            "629   7\n",
            "633  13\n",
            "639   5\n",
            "\n",
            "[130 rows x 1 columns]\n"
          ],
          "name": "stdout"
        }
      ]
    },
    {
      "cell_type": "code",
      "metadata": {
        "colab": {
          "base_uri": "https://localhost:8080/"
        },
        "id": "TX08F3sAym5H",
        "outputId": "eaf2ebee-3ed9-4c78-c6c4-569ff0d3ec68"
      },
      "source": [
        "testPrediction = model.predict(testFeatures).flatten()\n",
        "print(len(testPrediction))\n",
        "testPrediction"
      ],
      "execution_count": null,
      "outputs": [
        {
          "output_type": "stream",
          "text": [
            "130\n"
          ],
          "name": "stdout"
        },
        {
          "output_type": "execute_result",
          "data": {
            "text/plain": [
              "array([12.574032 , 10.865301 , 12.574032 , 10.865301 , 10.865301 ,\n",
              "       12.574032 , 13.428398 , 14.282763 , 10.865301 , 14.282763 ,\n",
              "       10.010937 , 16.84586  , 13.428398 , 15.137129 , 14.282763 ,\n",
              "       13.428398 , 13.428398 , 11.719667 , 12.574032 , 13.428398 ,\n",
              "       13.428398 , 15.137129 , 14.282763 , 11.719667 , 13.428398 ,\n",
              "       12.574032 , 12.574032 , 13.428398 , 15.991493 , 14.282763 ,\n",
              "       12.574032 , 14.282763 , 10.865301 , 10.865301 , 13.428398 ,\n",
              "       12.574032 , 13.428398 ,  9.156571 , 10.010937 , 15.137129 ,\n",
              "       12.574032 , 10.010937 ,  9.156571 , 10.010937 , 10.010937 ,\n",
              "       12.574032 , 15.991493 , 10.010937 , 10.865301 , 14.282763 ,\n",
              "       13.428398 , 10.010937 , 14.282763 , 13.428398 , 12.574032 ,\n",
              "       14.282763 , 10.010937 ,  8.302206 , 10.865301 , 12.574032 ,\n",
              "       15.137129 , 14.282763 , 11.719667 , 12.574032 , 11.719667 ,\n",
              "       10.865301 , 12.574032 , 12.574032 , 11.719667 , 11.719667 ,\n",
              "       15.991493 ,  9.156571 , 11.719667 , 15.991493 , 13.428398 ,\n",
              "       10.865301 , 10.865301 , 12.574032 , 16.84586  , 15.137129 ,\n",
              "        9.156571 ,  9.156571 , 10.865301 , 11.719667 , 13.428398 ,\n",
              "       11.719667 , 15.137129 , 10.865301 , 15.991493 , 11.719667 ,\n",
              "       13.428398 , 12.574032 , 10.865301 , 10.865301 , 10.865301 ,\n",
              "       12.574032 , 10.010937 , 15.991493 , 15.137129 , 10.865301 ,\n",
              "       13.428398 , 11.719667 , 14.282763 , 10.010937 ,  8.302206 ,\n",
              "       15.137129 ,  8.302206 , 10.010937 , 12.574032 , 10.010937 ,\n",
              "       12.574032 , 12.574032 , 13.428398 , 10.865301 , 13.428398 ,\n",
              "       12.574032 , 10.865301 , 10.865301 ,  8.302206 ,  9.156571 ,\n",
              "       12.574032 , 12.574032 ,  9.156571 , 14.282763 , 10.865301 ,\n",
              "       13.428398 , 10.010937 ,  8.302206 , 13.428398 ,  6.5934753],\n",
              "      dtype=float32)"
            ]
          },
          "metadata": {
            "tags": []
          },
          "execution_count": 21
        }
      ]
    },
    {
      "cell_type": "code",
      "metadata": {
        "colab": {
          "base_uri": "https://localhost:8080/",
          "height": 279
        },
        "id": "uza2wKhXzW8B",
        "outputId": "02d66f34-2f8a-4c0e-d4ec-f1ab9149ff8a"
      },
      "source": [
        "# to check how well the model predicts across the actual labels\n",
        "\n",
        "plt.scatter(testLabels, testPrediction)\n",
        "plt.ylabel('Predictions')\n",
        "plt.xlabel('True Value or Labels')\n",
        "plt.axis('equal')\n",
        "plt.xlim([0, plt.xlim()[1]])\n",
        "plt.ylim([0, plt.ylim()[1]])\n",
        "plt.show()\n"
      ],
      "execution_count": null,
      "outputs": [
        {
          "output_type": "display_data",
          "data": {
            "image/png": "[encoded data removed]",
            "text/plain": [
              "<Figure size 432x288 with 1 Axes>"
            ]
          },
          "metadata": {
            "tags": [],
            "needs_background": "light"
          }
        }
      ]
    },
    {
      "cell_type": "code",
      "metadata": {
        "colab": {
          "base_uri": "https://localhost:8080/",
          "height": 441
        },
        "id": "blJLcuTm4Dak",
        "outputId": "739139e8-77de-4b27-b337-d3315115e9a8"
      },
      "source": [
        "with sns.axes_style('white'):\n",
        "    sns.jointplot(x=testLabels,y=testPrediction, kind='reg',color='purple')"
      ],
      "execution_count": null,
      "outputs": [
        {
          "output_type": "display_data",
          "data": {
            "image/png": "[encoded data removed]",
            "text/plain": [
              "<Figure size 432x432 with 3 Axes>"
            ]
          },
          "metadata": {
            "tags": []
          }
        }
      ]
    },
    {
      "cell_type": "markdown",
      "metadata": {
        "id": "UurgJVZOEXY5"
      },
      "source": [
        "Predicted values have ↑ error for lower values of G3 ( < 4 )"
      ]
    },
    {
      "cell_type": "code",
      "metadata": {
        "colab": {
          "base_uri": "https://localhost:8080/",
          "height": 279
        },
        "id": "4wsF1TEE0IZt",
        "outputId": "a127f6d9-1dca-4a96-b0ad-b6bfe27a5684"
      },
      "source": [
        "def errorPlot(preds, labels, counts):\n",
        "  errors = preds - labels\n",
        "  plt.hist(errors, counts)\n",
        "  plt.xlabel('Error')\n",
        "  plt.ylabel('Counts')\n",
        "  plt.show()\n",
        "\n",
        "errorPlot(testPrediction, testLabels, numEpochs)"
      ],
      "execution_count": null,
      "outputs": [
        {
          "output_type": "display_data",
          "data": {
            "image/png": "[encoded data removed]",
            "text/plain": [
              "<Figure size 432x288 with 1 Axes>"
            ]
          },
          "metadata": {
            "tags": [],
            "needs_background": "light"
          }
        }
      ]
    },
    {
      "cell_type": "markdown",
      "metadata": {
        "id": "1V4Mcefr1GtN"
      },
      "source": [
        "Bell shape curve centred at x=0 ;"
      ]
    },
    {
      "cell_type": "code",
      "metadata": {
        "colab": {
          "base_uri": "https://localhost:8080/",
          "height": 441
        },
        "id": "hhYBWr3S08zH",
        "outputId": "9f585ff7-daf7-4488-e1d7-92cb3e7b6fef"
      },
      "source": [
        "error = testPrediction - testLabels\n",
        "with sns.axes_style('white'):\n",
        "    sns.jointplot(x=error,y=numEpochs, kind='hex')\n"
      ],
      "execution_count": null,
      "outputs": [
        {
          "output_type": "display_data",
          "data": {
            "image/png": "[encoded data removed]",
            "text/plain": [
              "<Figure size 432x432 with 3 Axes>"
            ]
          },
          "metadata": {
            "tags": []
          }
        }
      ]
    },
    {
      "cell_type": "markdown",
      "metadata": {
        "id": "rgDeu3jWFXLB"
      },
      "source": [
        ""
      ]
    },
    {
      "cell_type": "code",
      "metadata": {
        "colab": {
          "base_uri": "https://localhost:8080/"
        },
        "id": "FVkOrCby22a3",
        "outputId": "b80a5e87-7b1f-44b1-b225-fbd002b8b80a"
      },
      "source": [
        "# Using the model to predict values\n",
        "list_of_G1_values=[5,7,12,3]\n",
        "model.predict(list_of_G1_values).flatten()"
      ],
      "execution_count": null,
      "outputs": [
        {
          "output_type": "execute_result",
          "data": {
            "text/plain": [
              "array([ 6.5934753,  8.302206 , 12.574032 ,  4.8847446], dtype=float32)"
            ]
          },
          "metadata": {
            "tags": []
          },
          "execution_count": 26
        }
      ]
    },
    {
      "cell_type": "markdown",
      "metadata": {
        "id": "DiT7K2MhF-my"
      },
      "source": [
        "Database citation:\n",
        ">P. Cortez and A. Silva. Using Data Mining to Predict Secondary School Student Performance. In A. Brito and J. Teixeira Eds., Proceedings of 5th FUture BUsiness TEChnology Conference (FUBUTEC 2008) pp. 5-12, Porto, Portugal, April, 2008, EUROSIS, ISBN 978-9077381-39-7.\n",
        "\n",
        "[Link to the database](https://archive.ics.uci.edu/ml/datasets/Student+Performance)\n",
        "\n",
        "\n",
        "\n"
      ]
    }
  ]
}
